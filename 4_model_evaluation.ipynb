{
  "nbformat": 4,
  "nbformat_minor": 0,
  "metadata": {
    "colab": {
      "provenance": [],
      "collapsed_sections": [
        "CpAvWvtVsnsM",
        "YgkSli_HzoWJ",
        "Z7pOHaXjszy-",
        "KOgq0tdyskF2",
        "rxyGkvYdwnOL",
        "2T3dZz77wurE",
        "-FHO-z9zyJcx",
        "3eti-eZjyNUB",
        "ZRgBA48G1Yfh"
      ],
      "gpuType": "T4"
    },
    "kernelspec": {
      "name": "python3",
      "display_name": "Python 3"
    },
    "language_info": {
      "name": "python"
    },
    "accelerator": "GPU"
  },
  "cells": [
    {
      "cell_type": "markdown",
      "source": [
        "## Import library"
      ],
      "metadata": {
        "id": "CpAvWvtVsnsM"
      }
    },
    {
      "cell_type": "code",
      "execution_count": null,
      "metadata": {
        "colab": {
          "base_uri": "https://localhost:8080/"
        },
        "id": "_RHLAMpdn2El",
        "outputId": "4571635c-4ae5-4b40-a51c-4ce13c274eea"
      },
      "outputs": [
        {
          "output_type": "stream",
          "name": "stdout",
          "text": [
            "Mounted at /content/drive\n"
          ]
        }
      ],
      "source": [
        "from google.colab import drive\n",
        "drive.mount('/content/drive')"
      ]
    },
    {
      "cell_type": "code",
      "source": [
        "import os\n",
        "import pickle\n",
        "import cv2\n",
        "from tqdm import tqdm\n",
        "from pathlib import Path\n",
        "import imageio as iio\n",
        "import imgaug.augmenters as ia\n",
        "import imgaug\n",
        "import numpy as np\n",
        "from PIL import Image, ImageOps\n",
        "\n",
        "import torch\n",
        "import torch.nn as nn\n",
        "import torch.optim as optim\n",
        "from torch.optim import lr_scheduler\n",
        "import numpy as np\n",
        "import torchvision\n",
        "from torchvision import datasets, models, transforms\n",
        "from torch.utils.data import random_split\n",
        "import matplotlib.pyplot as plt\n",
        "import time\n",
        "import os\n",
        "import copy"
      ],
      "metadata": {
        "id": "PIDb5Z1JoB7J"
      },
      "execution_count": null,
      "outputs": []
    },
    {
      "cell_type": "code",
      "source": [
        "device = torch.device(\"cuda:0\" if torch.cuda.is_available() else \"cpu\")\n",
        "print(device)"
      ],
      "metadata": {
        "colab": {
          "base_uri": "https://localhost:8080/"
        },
        "id": "6CguLEC9oUok",
        "outputId": "ed396eb0-15e5-4971-fb16-9f23755a32eb"
      },
      "execution_count": null,
      "outputs": [
        {
          "output_type": "stream",
          "name": "stdout",
          "text": [
            "cuda:0\n"
          ]
        }
      ]
    },
    {
      "cell_type": "code",
      "source": [
        "data_transforms = {\n",
        "    'train': transforms.Compose([\n",
        "        transforms.Resize((224, 224)),\n",
        "        transforms.ToTensor(),\n",
        "        transforms.Normalize([0.485, 0.456, 0.406], [0.229, 0.224, 0.225])\n",
        "    ]),\n",
        "    'valid': transforms.Compose([\n",
        "        transforms.Resize((224, 224)),\n",
        "        transforms.ToTensor(),\n",
        "        transforms.Normalize([0.485, 0.456, 0.406], [0.229, 0.224, 0.225])\n",
        "    ]),\n",
        "\n",
        "}\n",
        "\n",
        "data_dir = '/content/drive/MyDrive/Xu ly anh /Group_Thanh_Ha/datadir'\n",
        "\n",
        "class_names = sorted(os.listdir(data_dir))"
      ],
      "metadata": {
        "id": "kWAyEQFG05Sc"
      },
      "execution_count": null,
      "outputs": []
    },
    {
      "cell_type": "markdown",
      "source": [
        "# 100 images - trial 1"
      ],
      "metadata": {
        "id": "IpmvR13A0Bvu"
      }
    },
    {
      "cell_type": "code",
      "source": [
        "# Load the model\n",
        "loaded_model = torch.load('/content/drive/MyDrive/cs406/project/TRECVID/checkpoints/best_model_aug-resnet_100_1.pth')\n",
        "\n",
        "# If you want to use the loaded model for inference, make sure to set it to evaluation mode\n",
        "loaded_model.eval()"
      ],
      "metadata": {
        "colab": {
          "base_uri": "https://localhost:8080/"
        },
        "id": "MJpC7xol0mxh",
        "outputId": "434e541d-0637-4e22-f6e6-68e5e22951ad"
      },
      "execution_count": null,
      "outputs": [
        {
          "output_type": "execute_result",
          "data": {
            "text/plain": [
              "ResNet(\n",
              "  (conv1): Conv2d(3, 64, kernel_size=(7, 7), stride=(2, 2), padding=(3, 3), bias=False)\n",
              "  (bn1): BatchNorm2d(64, eps=1e-05, momentum=0.1, affine=True, track_running_stats=True)\n",
              "  (relu): ReLU(inplace=True)\n",
              "  (maxpool): MaxPool2d(kernel_size=3, stride=2, padding=1, dilation=1, ceil_mode=False)\n",
              "  (layer1): Sequential(\n",
              "    (0): BasicBlock(\n",
              "      (conv1): Conv2d(64, 64, kernel_size=(3, 3), stride=(1, 1), padding=(1, 1), bias=False)\n",
              "      (bn1): BatchNorm2d(64, eps=1e-05, momentum=0.1, affine=True, track_running_stats=True)\n",
              "      (relu): ReLU(inplace=True)\n",
              "      (conv2): Conv2d(64, 64, kernel_size=(3, 3), stride=(1, 1), padding=(1, 1), bias=False)\n",
              "      (bn2): BatchNorm2d(64, eps=1e-05, momentum=0.1, affine=True, track_running_stats=True)\n",
              "    )\n",
              "    (1): BasicBlock(\n",
              "      (conv1): Conv2d(64, 64, kernel_size=(3, 3), stride=(1, 1), padding=(1, 1), bias=False)\n",
              "      (bn1): BatchNorm2d(64, eps=1e-05, momentum=0.1, affine=True, track_running_stats=True)\n",
              "      (relu): ReLU(inplace=True)\n",
              "      (conv2): Conv2d(64, 64, kernel_size=(3, 3), stride=(1, 1), padding=(1, 1), bias=False)\n",
              "      (bn2): BatchNorm2d(64, eps=1e-05, momentum=0.1, affine=True, track_running_stats=True)\n",
              "    )\n",
              "  )\n",
              "  (layer2): Sequential(\n",
              "    (0): BasicBlock(\n",
              "      (conv1): Conv2d(64, 128, kernel_size=(3, 3), stride=(2, 2), padding=(1, 1), bias=False)\n",
              "      (bn1): BatchNorm2d(128, eps=1e-05, momentum=0.1, affine=True, track_running_stats=True)\n",
              "      (relu): ReLU(inplace=True)\n",
              "      (conv2): Conv2d(128, 128, kernel_size=(3, 3), stride=(1, 1), padding=(1, 1), bias=False)\n",
              "      (bn2): BatchNorm2d(128, eps=1e-05, momentum=0.1, affine=True, track_running_stats=True)\n",
              "      (downsample): Sequential(\n",
              "        (0): Conv2d(64, 128, kernel_size=(1, 1), stride=(2, 2), bias=False)\n",
              "        (1): BatchNorm2d(128, eps=1e-05, momentum=0.1, affine=True, track_running_stats=True)\n",
              "      )\n",
              "    )\n",
              "    (1): BasicBlock(\n",
              "      (conv1): Conv2d(128, 128, kernel_size=(3, 3), stride=(1, 1), padding=(1, 1), bias=False)\n",
              "      (bn1): BatchNorm2d(128, eps=1e-05, momentum=0.1, affine=True, track_running_stats=True)\n",
              "      (relu): ReLU(inplace=True)\n",
              "      (conv2): Conv2d(128, 128, kernel_size=(3, 3), stride=(1, 1), padding=(1, 1), bias=False)\n",
              "      (bn2): BatchNorm2d(128, eps=1e-05, momentum=0.1, affine=True, track_running_stats=True)\n",
              "    )\n",
              "  )\n",
              "  (layer3): Sequential(\n",
              "    (0): BasicBlock(\n",
              "      (conv1): Conv2d(128, 256, kernel_size=(3, 3), stride=(2, 2), padding=(1, 1), bias=False)\n",
              "      (bn1): BatchNorm2d(256, eps=1e-05, momentum=0.1, affine=True, track_running_stats=True)\n",
              "      (relu): ReLU(inplace=True)\n",
              "      (conv2): Conv2d(256, 256, kernel_size=(3, 3), stride=(1, 1), padding=(1, 1), bias=False)\n",
              "      (bn2): BatchNorm2d(256, eps=1e-05, momentum=0.1, affine=True, track_running_stats=True)\n",
              "      (downsample): Sequential(\n",
              "        (0): Conv2d(128, 256, kernel_size=(1, 1), stride=(2, 2), bias=False)\n",
              "        (1): BatchNorm2d(256, eps=1e-05, momentum=0.1, affine=True, track_running_stats=True)\n",
              "      )\n",
              "    )\n",
              "    (1): BasicBlock(\n",
              "      (conv1): Conv2d(256, 256, kernel_size=(3, 3), stride=(1, 1), padding=(1, 1), bias=False)\n",
              "      (bn1): BatchNorm2d(256, eps=1e-05, momentum=0.1, affine=True, track_running_stats=True)\n",
              "      (relu): ReLU(inplace=True)\n",
              "      (conv2): Conv2d(256, 256, kernel_size=(3, 3), stride=(1, 1), padding=(1, 1), bias=False)\n",
              "      (bn2): BatchNorm2d(256, eps=1e-05, momentum=0.1, affine=True, track_running_stats=True)\n",
              "    )\n",
              "  )\n",
              "  (layer4): Sequential(\n",
              "    (0): BasicBlock(\n",
              "      (conv1): Conv2d(256, 512, kernel_size=(3, 3), stride=(2, 2), padding=(1, 1), bias=False)\n",
              "      (bn1): BatchNorm2d(512, eps=1e-05, momentum=0.1, affine=True, track_running_stats=True)\n",
              "      (relu): ReLU(inplace=True)\n",
              "      (conv2): Conv2d(512, 512, kernel_size=(3, 3), stride=(1, 1), padding=(1, 1), bias=False)\n",
              "      (bn2): BatchNorm2d(512, eps=1e-05, momentum=0.1, affine=True, track_running_stats=True)\n",
              "      (downsample): Sequential(\n",
              "        (0): Conv2d(256, 512, kernel_size=(1, 1), stride=(2, 2), bias=False)\n",
              "        (1): BatchNorm2d(512, eps=1e-05, momentum=0.1, affine=True, track_running_stats=True)\n",
              "      )\n",
              "    )\n",
              "    (1): BasicBlock(\n",
              "      (conv1): Conv2d(512, 512, kernel_size=(3, 3), stride=(1, 1), padding=(1, 1), bias=False)\n",
              "      (bn1): BatchNorm2d(512, eps=1e-05, momentum=0.1, affine=True, track_running_stats=True)\n",
              "      (relu): ReLU(inplace=True)\n",
              "      (conv2): Conv2d(512, 512, kernel_size=(3, 3), stride=(1, 1), padding=(1, 1), bias=False)\n",
              "      (bn2): BatchNorm2d(512, eps=1e-05, momentum=0.1, affine=True, track_running_stats=True)\n",
              "    )\n",
              "  )\n",
              "  (avgpool): AdaptiveAvgPool2d(output_size=(1, 1))\n",
              "  (fc): Linear(in_features=512, out_features=31, bias=True)\n",
              ")"
            ]
          },
          "metadata": {},
          "execution_count": 7
        }
      ]
    },
    {
      "cell_type": "code",
      "source": [
        "test_folder = '/content/drive/MyDrive/cs406/project/TRECVID/test_set'\n",
        "count = 0\n",
        "count_true = 0\n",
        "for class_name in os.listdir(test_folder):\n",
        "  count_true_class = 0\n",
        "  count_class = 0\n",
        "  for image_name in os.listdir(os.path.join(test_folder, class_name)):\n",
        "      image_test = os.path.join(test_folder, class_name, image_name)\n",
        "      image = Image.open(image_test)\n",
        "      transform = data_transforms['valid']  # Sử dụng chuyển đổi cho tập kiểm thử\n",
        "      input_image = transform(image)\n",
        "      input_image = input_image.unsqueeze(0)\n",
        "      input_image = input_image.to(device)\n",
        "      with torch.no_grad():\n",
        "          outputs = loaded_model(input_image)\n",
        "      _, preds = torch.max(outputs, 1)\n",
        "      true_class = image_name[:-6]\n",
        "      if(true_class == class_names[preds.item()]):\n",
        "        count_true_class+=1\n",
        "      count_class += 1\n",
        "  print(f'Movie {class_name}: {count_true_class}/{count_class}')\n",
        "  count += count_class\n",
        "  count_true += count_true_class"
      ],
      "metadata": {
        "colab": {
          "base_uri": "https://localhost:8080/"
        },
        "id": "r-Ug-Bez0848",
        "outputId": "eca1b8b1-e7f0-42bf-b0f9-e3ccb047cc9c"
      },
      "execution_count": null,
      "outputs": [
        {
          "output_type": "stream",
          "name": "stdout",
          "text": [
            "Movie like_me: 16/20\n",
            "Movie liberty_kid: 16/26\n",
            "Movie little_rock: 17/23\n",
            "Movie chained_for_life: 10/17\n",
            "Movie losing_ground: 21/33\n",
            "Movie calloused_hands: 28/40\n"
          ]
        }
      ]
    },
    {
      "cell_type": "code",
      "source": [
        "print(f'Total: {count_true}/{count}')\n",
        "print(f'Acc: {count_true/count*100:.2f}')"
      ],
      "metadata": {
        "colab": {
          "base_uri": "https://localhost:8080/"
        },
        "id": "jY21C22s0_qy",
        "outputId": "a4eae584-34b0-409e-e67c-4cc0f433bbf8"
      },
      "execution_count": null,
      "outputs": [
        {
          "output_type": "stream",
          "name": "stdout",
          "text": [
            "Total: 108/159\n",
            "Acc: 67.92\n"
          ]
        }
      ]
    },
    {
      "cell_type": "markdown",
      "source": [
        "# 100 images - trial 2"
      ],
      "metadata": {
        "id": "XkQpOj0l49Jm"
      }
    },
    {
      "cell_type": "code",
      "source": [
        "# Load the model\n",
        "loaded_model = torch.load('/content/drive/MyDrive/cs406/project/TRECVID/checkpoints/best_model_aug-resnet_100_2.pth')\n",
        "\n",
        "# If you want to use the loaded model for inference, make sure to set it to evaluation mode\n",
        "loaded_model.eval()"
      ],
      "metadata": {
        "id": "lvyXcGWJ5GBJ",
        "colab": {
          "base_uri": "https://localhost:8080/"
        },
        "outputId": "9befed6d-1c06-4985-8d3a-b26a5f9979bd"
      },
      "execution_count": null,
      "outputs": [
        {
          "output_type": "execute_result",
          "data": {
            "text/plain": [
              "ResNet(\n",
              "  (conv1): Conv2d(3, 64, kernel_size=(7, 7), stride=(2, 2), padding=(3, 3), bias=False)\n",
              "  (bn1): BatchNorm2d(64, eps=1e-05, momentum=0.1, affine=True, track_running_stats=True)\n",
              "  (relu): ReLU(inplace=True)\n",
              "  (maxpool): MaxPool2d(kernel_size=3, stride=2, padding=1, dilation=1, ceil_mode=False)\n",
              "  (layer1): Sequential(\n",
              "    (0): BasicBlock(\n",
              "      (conv1): Conv2d(64, 64, kernel_size=(3, 3), stride=(1, 1), padding=(1, 1), bias=False)\n",
              "      (bn1): BatchNorm2d(64, eps=1e-05, momentum=0.1, affine=True, track_running_stats=True)\n",
              "      (relu): ReLU(inplace=True)\n",
              "      (conv2): Conv2d(64, 64, kernel_size=(3, 3), stride=(1, 1), padding=(1, 1), bias=False)\n",
              "      (bn2): BatchNorm2d(64, eps=1e-05, momentum=0.1, affine=True, track_running_stats=True)\n",
              "    )\n",
              "    (1): BasicBlock(\n",
              "      (conv1): Conv2d(64, 64, kernel_size=(3, 3), stride=(1, 1), padding=(1, 1), bias=False)\n",
              "      (bn1): BatchNorm2d(64, eps=1e-05, momentum=0.1, affine=True, track_running_stats=True)\n",
              "      (relu): ReLU(inplace=True)\n",
              "      (conv2): Conv2d(64, 64, kernel_size=(3, 3), stride=(1, 1), padding=(1, 1), bias=False)\n",
              "      (bn2): BatchNorm2d(64, eps=1e-05, momentum=0.1, affine=True, track_running_stats=True)\n",
              "    )\n",
              "  )\n",
              "  (layer2): Sequential(\n",
              "    (0): BasicBlock(\n",
              "      (conv1): Conv2d(64, 128, kernel_size=(3, 3), stride=(2, 2), padding=(1, 1), bias=False)\n",
              "      (bn1): BatchNorm2d(128, eps=1e-05, momentum=0.1, affine=True, track_running_stats=True)\n",
              "      (relu): ReLU(inplace=True)\n",
              "      (conv2): Conv2d(128, 128, kernel_size=(3, 3), stride=(1, 1), padding=(1, 1), bias=False)\n",
              "      (bn2): BatchNorm2d(128, eps=1e-05, momentum=0.1, affine=True, track_running_stats=True)\n",
              "      (downsample): Sequential(\n",
              "        (0): Conv2d(64, 128, kernel_size=(1, 1), stride=(2, 2), bias=False)\n",
              "        (1): BatchNorm2d(128, eps=1e-05, momentum=0.1, affine=True, track_running_stats=True)\n",
              "      )\n",
              "    )\n",
              "    (1): BasicBlock(\n",
              "      (conv1): Conv2d(128, 128, kernel_size=(3, 3), stride=(1, 1), padding=(1, 1), bias=False)\n",
              "      (bn1): BatchNorm2d(128, eps=1e-05, momentum=0.1, affine=True, track_running_stats=True)\n",
              "      (relu): ReLU(inplace=True)\n",
              "      (conv2): Conv2d(128, 128, kernel_size=(3, 3), stride=(1, 1), padding=(1, 1), bias=False)\n",
              "      (bn2): BatchNorm2d(128, eps=1e-05, momentum=0.1, affine=True, track_running_stats=True)\n",
              "    )\n",
              "  )\n",
              "  (layer3): Sequential(\n",
              "    (0): BasicBlock(\n",
              "      (conv1): Conv2d(128, 256, kernel_size=(3, 3), stride=(2, 2), padding=(1, 1), bias=False)\n",
              "      (bn1): BatchNorm2d(256, eps=1e-05, momentum=0.1, affine=True, track_running_stats=True)\n",
              "      (relu): ReLU(inplace=True)\n",
              "      (conv2): Conv2d(256, 256, kernel_size=(3, 3), stride=(1, 1), padding=(1, 1), bias=False)\n",
              "      (bn2): BatchNorm2d(256, eps=1e-05, momentum=0.1, affine=True, track_running_stats=True)\n",
              "      (downsample): Sequential(\n",
              "        (0): Conv2d(128, 256, kernel_size=(1, 1), stride=(2, 2), bias=False)\n",
              "        (1): BatchNorm2d(256, eps=1e-05, momentum=0.1, affine=True, track_running_stats=True)\n",
              "      )\n",
              "    )\n",
              "    (1): BasicBlock(\n",
              "      (conv1): Conv2d(256, 256, kernel_size=(3, 3), stride=(1, 1), padding=(1, 1), bias=False)\n",
              "      (bn1): BatchNorm2d(256, eps=1e-05, momentum=0.1, affine=True, track_running_stats=True)\n",
              "      (relu): ReLU(inplace=True)\n",
              "      (conv2): Conv2d(256, 256, kernel_size=(3, 3), stride=(1, 1), padding=(1, 1), bias=False)\n",
              "      (bn2): BatchNorm2d(256, eps=1e-05, momentum=0.1, affine=True, track_running_stats=True)\n",
              "    )\n",
              "  )\n",
              "  (layer4): Sequential(\n",
              "    (0): BasicBlock(\n",
              "      (conv1): Conv2d(256, 512, kernel_size=(3, 3), stride=(2, 2), padding=(1, 1), bias=False)\n",
              "      (bn1): BatchNorm2d(512, eps=1e-05, momentum=0.1, affine=True, track_running_stats=True)\n",
              "      (relu): ReLU(inplace=True)\n",
              "      (conv2): Conv2d(512, 512, kernel_size=(3, 3), stride=(1, 1), padding=(1, 1), bias=False)\n",
              "      (bn2): BatchNorm2d(512, eps=1e-05, momentum=0.1, affine=True, track_running_stats=True)\n",
              "      (downsample): Sequential(\n",
              "        (0): Conv2d(256, 512, kernel_size=(1, 1), stride=(2, 2), bias=False)\n",
              "        (1): BatchNorm2d(512, eps=1e-05, momentum=0.1, affine=True, track_running_stats=True)\n",
              "      )\n",
              "    )\n",
              "    (1): BasicBlock(\n",
              "      (conv1): Conv2d(512, 512, kernel_size=(3, 3), stride=(1, 1), padding=(1, 1), bias=False)\n",
              "      (bn1): BatchNorm2d(512, eps=1e-05, momentum=0.1, affine=True, track_running_stats=True)\n",
              "      (relu): ReLU(inplace=True)\n",
              "      (conv2): Conv2d(512, 512, kernel_size=(3, 3), stride=(1, 1), padding=(1, 1), bias=False)\n",
              "      (bn2): BatchNorm2d(512, eps=1e-05, momentum=0.1, affine=True, track_running_stats=True)\n",
              "    )\n",
              "  )\n",
              "  (avgpool): AdaptiveAvgPool2d(output_size=(1, 1))\n",
              "  (fc): Linear(in_features=512, out_features=31, bias=True)\n",
              ")"
            ]
          },
          "metadata": {},
          "execution_count": 11
        }
      ]
    },
    {
      "cell_type": "code",
      "source": [
        "test_folder = '/content/drive/MyDrive/cs406/project/TRECVID/test_set'\n",
        "count = 0\n",
        "count_true = 0\n",
        "for class_name in os.listdir(test_folder):\n",
        "  count_true_class = 0\n",
        "  count_class = 0\n",
        "  for image_name in os.listdir(os.path.join(test_folder, class_name)):\n",
        "      image_test = os.path.join(test_folder, class_name, image_name)\n",
        "      image = Image.open(image_test)\n",
        "      transform = data_transforms['valid']  # Sử dụng chuyển đổi cho tập kiểm thử\n",
        "      input_image = transform(image)\n",
        "      input_image = input_image.unsqueeze(0)\n",
        "      input_image = input_image.to(device)\n",
        "      with torch.no_grad():\n",
        "          outputs = loaded_model(input_image)\n",
        "      _, preds = torch.max(outputs, 1)\n",
        "      true_class = image_name[:-6]\n",
        "      if(true_class == class_names[preds.item()]):\n",
        "        count_true_class+=1\n",
        "      count_class += 1\n",
        "  print(f'Movie {class_name}: {count_true_class}/{count_class}')\n",
        "  count += count_class\n",
        "  count_true += count_true_class"
      ],
      "metadata": {
        "id": "4k9NpcOE5I5g",
        "colab": {
          "base_uri": "https://localhost:8080/"
        },
        "outputId": "0340b870-7dd4-46bf-b466-8a6f0002fb6a"
      },
      "execution_count": null,
      "outputs": [
        {
          "output_type": "stream",
          "name": "stdout",
          "text": [
            "Movie like_me: 16/20\n",
            "Movie liberty_kid: 16/26\n",
            "Movie little_rock: 16/23\n",
            "Movie chained_for_life: 10/17\n",
            "Movie losing_ground: 21/33\n",
            "Movie calloused_hands: 25/40\n"
          ]
        }
      ]
    },
    {
      "cell_type": "code",
      "source": [
        "print(f'Total: {count_true}/{count}')\n",
        "print(f'Acc: {count_true/count*100:.2f}')"
      ],
      "metadata": {
        "id": "mi7c-7Ii5O0y",
        "colab": {
          "base_uri": "https://localhost:8080/"
        },
        "outputId": "a7d5b4fb-1223-44fd-e764-f07b0ce8efbb"
      },
      "execution_count": null,
      "outputs": [
        {
          "output_type": "stream",
          "name": "stdout",
          "text": [
            "Total: 104/159\n",
            "Acc: 65.41\n"
          ]
        }
      ]
    },
    {
      "cell_type": "markdown",
      "source": [
        "# 200 images trial 1"
      ],
      "metadata": {
        "id": "OSDUgoaDkvm1"
      }
    },
    {
      "cell_type": "code",
      "source": [
        "# Load the model\n",
        "loaded_model = torch.load('/content/drive/MyDrive/cs406/project/TRECVID/checkpoints/best_model_aug-resnet_200_1.pth')\n",
        "\n",
        "# If you want to use the loaded model for inference, make sure to set it to evaluation mode\n",
        "loaded_model.eval()\n",
        "\n",
        "test_folder = '/content/drive/MyDrive/cs406/project/TRECVID/test_set'\n",
        "count = 0\n",
        "count_true = 0\n",
        "for class_name in os.listdir(test_folder):\n",
        "  count_true_class = 0\n",
        "  count_class = 0\n",
        "  for image_name in os.listdir(os.path.join(test_folder, class_name)):\n",
        "      image_test = os.path.join(test_folder, class_name, image_name)\n",
        "      image = Image.open(image_test)\n",
        "      transform = data_transforms['valid']  # Sử dụng chuyển đổi cho tập kiểm thử\n",
        "      input_image = transform(image)\n",
        "      input_image = input_image.unsqueeze(0)\n",
        "      input_image = input_image.to(device)\n",
        "      with torch.no_grad():\n",
        "          outputs = loaded_model(input_image)\n",
        "      _, preds = torch.max(outputs, 1)\n",
        "      true_class = image_name[:-6]\n",
        "      if(true_class == class_names[preds.item()]):\n",
        "        count_true_class+=1\n",
        "      count_class += 1\n",
        "  print(f'Movie {class_name}: {count_true_class}/{count_class}')\n",
        "  count += count_class\n",
        "  count_true += count_true_class\n",
        "\n",
        "print(f'Total: {count_true}/{count}')\n",
        "print(f'Acc: {count_true/count*100:.2f}')"
      ],
      "metadata": {
        "colab": {
          "base_uri": "https://localhost:8080/"
        },
        "id": "L94DuLYDkzUJ",
        "outputId": "baa8b643-e860-49d4-d90d-695421220c76"
      },
      "execution_count": null,
      "outputs": [
        {
          "output_type": "stream",
          "name": "stdout",
          "text": [
            "Movie like_me: 15/20\n",
            "Movie liberty_kid: 17/26\n",
            "Movie little_rock: 17/23\n",
            "Movie chained_for_life: 10/17\n",
            "Movie losing_ground: 24/33\n",
            "Movie calloused_hands: 28/40\n",
            "Total: 111/159\n",
            "Acc: 69.81\n"
          ]
        }
      ]
    },
    {
      "cell_type": "markdown",
      "source": [
        "# 200 images trial 2"
      ],
      "metadata": {
        "id": "pnfSlk4Sl2br"
      }
    },
    {
      "cell_type": "code",
      "source": [
        "# Load the model\n",
        "loaded_model = torch.load('/content/drive/MyDrive/cs406/project/TRECVID/checkpoints/best_model_aug-resnet_200_2.pth')\n",
        "\n",
        "# If you want to use the loaded model for inference, make sure to set it to evaluation mode\n",
        "loaded_model.eval()\n",
        "\n",
        "test_folder = '/content/drive/MyDrive/cs406/project/TRECVID/test_set'\n",
        "count = 0\n",
        "count_true = 0\n",
        "for class_name in os.listdir(test_folder):\n",
        "  count_true_class = 0\n",
        "  count_class = 0\n",
        "  for image_name in os.listdir(os.path.join(test_folder, class_name)):\n",
        "      image_test = os.path.join(test_folder, class_name, image_name)\n",
        "      image = Image.open(image_test)\n",
        "      transform = data_transforms['valid']  # Sử dụng chuyển đổi cho tập kiểm thử\n",
        "      input_image = transform(image)\n",
        "      input_image = input_image.unsqueeze(0)\n",
        "      input_image = input_image.to(device)\n",
        "      with torch.no_grad():\n",
        "          outputs = loaded_model(input_image)\n",
        "      _, preds = torch.max(outputs, 1)\n",
        "      true_class = image_name[:-6]\n",
        "      if(true_class == class_names[preds.item()]):\n",
        "        count_true_class+=1\n",
        "      count_class += 1\n",
        "  print(f'Movie {class_name}: {count_true_class}/{count_class}')\n",
        "  count += count_class\n",
        "  count_true += count_true_class\n",
        "\n",
        "print(f'Total: {count_true}/{count}')\n",
        "print(f'Acc: {count_true/count*100:.2f}')"
      ],
      "metadata": {
        "colab": {
          "base_uri": "https://localhost:8080/"
        },
        "id": "CByIY97Xl3vA",
        "outputId": "0c76f711-9ca1-4cfc-d3d1-bff81e369926"
      },
      "execution_count": null,
      "outputs": [
        {
          "output_type": "stream",
          "name": "stdout",
          "text": [
            "Movie like_me: 17/20\n",
            "Movie liberty_kid: 15/26\n",
            "Movie little_rock: 17/23\n",
            "Movie chained_for_life: 9/17\n",
            "Movie losing_ground: 22/33\n",
            "Movie calloused_hands: 27/40\n",
            "Total: 107/159\n",
            "Acc: 67.30\n"
          ]
        }
      ]
    },
    {
      "cell_type": "markdown",
      "source": [
        "# 500 images trial 1"
      ],
      "metadata": {
        "id": "zB4X-Drgl4r8"
      }
    },
    {
      "cell_type": "code",
      "source": [
        "# Load the model\n",
        "loaded_model = torch.load('/content/drive/MyDrive/cs406/project/TRECVID/checkpoints/best_model_aug-resnet_500_1.pth')\n",
        "\n",
        "# If you want to use the loaded model for inference, make sure to set it to evaluation mode\n",
        "loaded_model.eval()\n",
        "\n",
        "test_folder = '/content/drive/MyDrive/cs406/project/TRECVID/test_set'\n",
        "count = 0\n",
        "count_true = 0\n",
        "for class_name in os.listdir(test_folder):\n",
        "  count_true_class = 0\n",
        "  count_class = 0\n",
        "  for image_name in os.listdir(os.path.join(test_folder, class_name)):\n",
        "      image_test = os.path.join(test_folder, class_name, image_name)\n",
        "      image = Image.open(image_test)\n",
        "      transform = data_transforms['valid']  # Sử dụng chuyển đổi cho tập kiểm thử\n",
        "      input_image = transform(image)\n",
        "      input_image = input_image.unsqueeze(0)\n",
        "      input_image = input_image.to(device)\n",
        "      with torch.no_grad():\n",
        "          outputs = loaded_model(input_image)\n",
        "      _, preds = torch.max(outputs, 1)\n",
        "      true_class = image_name[:-6]\n",
        "      if(true_class == class_names[preds.item()]):\n",
        "        count_true_class+=1\n",
        "      count_class += 1\n",
        "  print(f'Movie {class_name}: {count_true_class}/{count_class}')\n",
        "  count += count_class\n",
        "  count_true += count_true_class\n",
        "\n",
        "print(f'Total: {count_true}/{count}')\n",
        "print(f'Acc: {count_true/count*100:.2f}')"
      ],
      "metadata": {
        "colab": {
          "base_uri": "https://localhost:8080/"
        },
        "id": "gWwPV-gDmcvA",
        "outputId": "6bc718d7-71b6-41e5-8f8b-4eb1e36dad41"
      },
      "execution_count": null,
      "outputs": [
        {
          "output_type": "stream",
          "name": "stdout",
          "text": [
            "Movie like_me: 17/20\n",
            "Movie liberty_kid: 15/26\n",
            "Movie little_rock: 17/23\n",
            "Movie chained_for_life: 9/17\n",
            "Movie losing_ground: 22/33\n",
            "Movie calloused_hands: 28/40\n",
            "Total: 108/159\n",
            "Acc: 67.92\n"
          ]
        }
      ]
    },
    {
      "cell_type": "markdown",
      "source": [
        "# 500 images trial 2"
      ],
      "metadata": {
        "id": "5P3hW-hFmoSs"
      }
    },
    {
      "cell_type": "code",
      "source": [
        "# Load the model\n",
        "loaded_model = torch.load('/content/drive/MyDrive/cs406/project/TRECVID/checkpoints/best_model_aug-resnet_500_1.pth')\n",
        "\n",
        "# If you want to use the loaded model for inference, make sure to set it to evaluation mode\n",
        "loaded_model.eval()\n",
        "\n",
        "test_folder = '/content/drive/MyDrive/cs406/project/TRECVID/test_set'\n",
        "count = 0\n",
        "count_true = 0\n",
        "for class_name in os.listdir(test_folder):\n",
        "  count_true_class = 0\n",
        "  count_class = 0\n",
        "  for image_name in os.listdir(os.path.join(test_folder, class_name)):\n",
        "      image_test = os.path.join(test_folder, class_name, image_name)\n",
        "      image = Image.open(image_test)\n",
        "      transform = data_transforms['valid']  # Sử dụng chuyển đổi cho tập kiểm thử\n",
        "      input_image = transform(image)\n",
        "      input_image = input_image.unsqueeze(0)\n",
        "      input_image = input_image.to(device)\n",
        "      with torch.no_grad():\n",
        "          outputs = loaded_model(input_image)\n",
        "      _, preds = torch.max(outputs, 1)\n",
        "      true_class = image_name[:-6]\n",
        "      if(true_class == class_names[preds.item()]):\n",
        "        count_true_class+=1\n",
        "      count_class += 1\n",
        "  print(f'Movie {class_name}: {count_true_class}/{count_class}')\n",
        "  count += count_class\n",
        "  count_true += count_true_class\n",
        "\n",
        "print(f'Total: {count_true}/{count}')\n",
        "print(f'Acc: {count_true/count*100:.2f}')"
      ],
      "metadata": {
        "colab": {
          "base_uri": "https://localhost:8080/"
        },
        "id": "vRy79x2Bmp25",
        "outputId": "98e4c7fe-0d9a-4f80-80f4-7a3561920cfd"
      },
      "execution_count": null,
      "outputs": [
        {
          "output_type": "stream",
          "name": "stdout",
          "text": [
            "Movie like_me: 17/20\n",
            "Movie liberty_kid: 15/26\n",
            "Movie little_rock: 17/23\n",
            "Movie chained_for_life: 9/17\n",
            "Movie losing_ground: 22/33\n",
            "Movie calloused_hands: 28/40\n",
            "Total: 108/159\n",
            "Acc: 67.92\n"
          ]
        }
      ]
    },
    {
      "cell_type": "markdown",
      "source": [
        "# Without augmentation"
      ],
      "metadata": {
        "id": "oN7XwJ0LmqY5"
      }
    },
    {
      "cell_type": "code",
      "source": [
        "# Load the model\n",
        "loaded_model = torch.load('/content/drive/MyDrive/cs406/project/TRECVID/checkpoints/model_resnet_without_augmentation.pth')\n",
        "\n",
        "# If you want to use the loaded model for inference, make sure to set it to evaluation mode\n",
        "loaded_model.eval()\n",
        "\n",
        "test_folder = '/content/drive/MyDrive/cs406/project/TRECVID/test_set'\n",
        "count = 0\n",
        "count_true = 0\n",
        "for class_name in os.listdir(test_folder):\n",
        "  count_true_class = 0\n",
        "  count_class = 0\n",
        "  for image_name in os.listdir(os.path.join(test_folder, class_name)):\n",
        "      image_test = os.path.join(test_folder, class_name, image_name)\n",
        "      image = Image.open(image_test)\n",
        "      transform = data_transforms['valid']  # Sử dụng chuyển đổi cho tập kiểm thử\n",
        "      input_image = transform(image)\n",
        "      input_image = input_image.unsqueeze(0)\n",
        "      input_image = input_image.to(device)\n",
        "      with torch.no_grad():\n",
        "          outputs = loaded_model(input_image)\n",
        "      _, preds = torch.max(outputs, 1)\n",
        "      true_class = image_name[:-6]\n",
        "      if(true_class == class_names[preds.item()]):\n",
        "        count_true_class+=1\n",
        "      count_class += 1\n",
        "  print(f'Movie {class_name}: {count_true_class}/{count_class}')\n",
        "  count += count_class\n",
        "  count_true += count_true_class\n",
        "\n",
        "print(f'Total: {count_true}/{count}')\n",
        "print(f'Acc: {count_true/count*100:.2f}')"
      ],
      "metadata": {
        "colab": {
          "base_uri": "https://localhost:8080/"
        },
        "id": "bnGlMOT5qE88",
        "outputId": "f6fd9135-a15c-42cd-ed1f-40042aa903b2"
      },
      "execution_count": null,
      "outputs": [
        {
          "output_type": "stream",
          "name": "stdout",
          "text": [
            "Movie like_me: 0/20\n",
            "Movie liberty_kid: 2/26\n",
            "Movie little_rock: 1/23\n",
            "Movie chained_for_life: 3/17\n",
            "Movie losing_ground: 7/33\n",
            "Movie calloused_hands: 4/40\n",
            "Total: 17/159\n",
            "Acc: 10.69\n"
          ]
        }
      ]
    },
    {
      "cell_type": "markdown",
      "source": [
        "# Channel shuffle"
      ],
      "metadata": {
        "id": "CmwA2IQAr13U"
      }
    },
    {
      "cell_type": "code",
      "source": [
        "# Load the model\n",
        "loaded_model = torch.load('/content/drive/MyDrive/cs406/project/TRECVID/checkpoints/model_resnet_channel_shuffle.pth')\n",
        "\n",
        "# If you want to use the loaded model for inference, make sure to set it to evaluation mode\n",
        "loaded_model.eval()\n",
        "\n",
        "test_folder = '/content/drive/MyDrive/cs406/project/TRECVID/test_set'\n",
        "count = 0\n",
        "count_true = 0\n",
        "for class_name in os.listdir(test_folder):\n",
        "  count_true_class = 0\n",
        "  count_class = 0\n",
        "  for image_name in os.listdir(os.path.join(test_folder, class_name)):\n",
        "      image_test = os.path.join(test_folder, class_name, image_name)\n",
        "      image = Image.open(image_test)\n",
        "      transform = data_transforms['valid']  # Sử dụng chuyển đổi cho tập kiểm thử\n",
        "      input_image = transform(image)\n",
        "      input_image = input_image.unsqueeze(0)\n",
        "      input_image = input_image.to(device)\n",
        "      with torch.no_grad():\n",
        "          outputs = loaded_model(input_image)\n",
        "      _, preds = torch.max(outputs, 1)\n",
        "      true_class = image_name[:-6]\n",
        "      if(true_class == class_names[preds.item()]):\n",
        "        count_true_class+=1\n",
        "      count_class += 1\n",
        "  print(f'Movie {class_name}: {count_true_class}/{count_class}')\n",
        "  count += count_class\n",
        "  count_true += count_true_class\n",
        "\n",
        "print(f'Total: {count_true}/{count}')\n",
        "print(f'Acc: {count_true/count*100:.2f}')"
      ],
      "metadata": {
        "colab": {
          "base_uri": "https://localhost:8080/"
        },
        "id": "Yz0JztDvqI2i",
        "outputId": "31010ae7-ae76-4910-f377-1cd15a54596d"
      },
      "execution_count": null,
      "outputs": [
        {
          "output_type": "stream",
          "name": "stdout",
          "text": [
            "Movie like_me: 2/20\n",
            "Movie liberty_kid: 6/26\n",
            "Movie little_rock: 5/23\n",
            "Movie chained_for_life: 5/17\n",
            "Movie losing_ground: 3/33\n",
            "Movie calloused_hands: 8/40\n",
            "Total: 29/159\n",
            "Acc: 18.24\n"
          ]
        }
      ]
    },
    {
      "cell_type": "code",
      "source": [],
      "metadata": {
        "id": "tNahaLEAr6PS"
      },
      "execution_count": null,
      "outputs": []
    }
  ]
}
