{
  "nbformat": 4,
  "nbformat_minor": 0,
  "metadata": {
    "colab": {
      "provenance": []
    },
    "kernelspec": {
      "name": "python3",
      "display_name": "Python 3"
    },
    "language_info": {
      "name": "python"
    }
  },
  "cells": [
    {
      "cell_type": "code",
      "execution_count": null,
      "metadata": {
        "colab": {
          "base_uri": "https://localhost:8080/"
        },
        "id": "V-29Th4dKcSq",
        "outputId": "27bbaa20-e170-496b-b888-0d3653ff9d4d"
      },
      "outputs": [
        {
          "output_type": "stream",
          "name": "stdout",
          "text": [
            "Mounted at /content/drive\n"
          ]
        }
      ],
      "source": [
        "from google.colab import drive\n",
        "drive.mount('/content/drive')"
      ]
    },
    {
      "cell_type": "code",
      "source": [
        "from imutils.video import FileVideoStream\n",
        "from imutils.video import FPS\n",
        "import numpy as np\n",
        "import argparse\n",
        "import imutils\n",
        "import time\n",
        "import cv2\n",
        "import os\n",
        "from tqdm import tqdm\n",
        "from google.colab.patches import cv2_imshow"
      ],
      "metadata": {
        "id": "TrDoRfXfK6Tx"
      },
      "execution_count": null,
      "outputs": []
    },
    {
      "cell_type": "code",
      "source": [
        "little_rock_scenes = \"/content/drive/MyDrive/cs406/TRECVID/scenes/little_rock\"\n",
        "chained_for_life_scenes = \"/content/drive/MyDrive/cs406/TRECVID/scenes/ChainedforLife\""
      ],
      "metadata": {
        "id": "B3banf2ALOj3"
      },
      "execution_count": null,
      "outputs": []
    },
    {
      "cell_type": "markdown",
      "source": [
        "## Little rock"
      ],
      "metadata": {
        "id": "ZZoTkbdUhSR0"
      }
    },
    {
      "cell_type": "code",
      "source": [
        "little_rock_dir = \"/content/drive/MyDrive/cs406/TRECVID/scenes/little_rock\""
      ],
      "metadata": {
        "id": "ONjAiwuPh88M"
      },
      "execution_count": null,
      "outputs": []
    },
    {
      "cell_type": "code",
      "source": [
        "video_array = sorted(os.listdir(little_rock_dir))\n",
        "print(video_array[i][:-5])"
      ],
      "metadata": {
        "colab": {
          "base_uri": "https://localhost:8080/"
        },
        "id": "PbckoFzLkebY",
        "outputId": "ca002328-324d-4959-8cb8-39da3676e0ec"
      },
      "execution_count": null,
      "outputs": [
        {
          "output_type": "stream",
          "name": "stdout",
          "text": [
            "little_rock-1\n"
          ]
        }
      ]
    },
    {
      "cell_type": "code",
      "source": [
        "for i in range(len(video_array)):\n",
        "  video_name = video_array[i]\n",
        "  video_path = os.path.join(little_rock_dir, video_name)\n",
        "  cap = cv2.VideoCapture(video_path)\n",
        "  fps = cap.get(cv2.CAP_PROP_FPS)\n",
        "  total_frames = int(cap.get(cv2.CAP_PROP_FRAME_COUNT))\n",
        "  output_folder = f'/content/drive/MyDrive/cs406/TRECVID/framefps/little_rock/{video_name[:-5]}'\n",
        "  os.makedirs(output_folder, exist_ok=True)\n",
        "  j = 0\n",
        "  k = 0\n",
        "\n",
        "  # loop over frames from the video file stream\n",
        "  while True:\n",
        "      ret, frame = cap.read()\n",
        "      if not ret:\n",
        "          break  # Break the loop if no more frames are available\n",
        "\n",
        "      if j % 5 == 0:\n",
        "          output_path = os.path.join(output_folder, f\"{video_name[:-5]}-frame_{k}.jpg\")\n",
        "          cv2.imwrite(output_path, frame)\n",
        "          k += 1\n",
        "      j += 1\n",
        "\n",
        "  cap.release()\n",
        "  print(f'Done video {video_name}!')"
      ],
      "metadata": {
        "colab": {
          "base_uri": "https://localhost:8080/"
        },
        "id": "DIQtVzuQhV1R",
        "outputId": "8db92ea8-1d8a-4eb5-bd9e-3d65a0d7a773"
      },
      "execution_count": null,
      "outputs": [
        {
          "output_type": "stream",
          "name": "stdout",
          "text": [
            "Done video little_rock-1.webm!\n",
            "Done video little_rock-10.webm!\n",
            "Done video little_rock-11.webm!\n",
            "Done video little_rock-12.webm!\n",
            "Done video little_rock-13.webm!\n",
            "Done video little_rock-14.webm!\n",
            "Done video little_rock-15.webm!\n",
            "Done video little_rock-16.webm!\n",
            "Done video little_rock-17.webm!\n",
            "Done video little_rock-18.webm!\n",
            "Done video little_rock-19.webm!\n",
            "Done video little_rock-2.webm!\n",
            "Done video little_rock-20.webm!\n",
            "Done video little_rock-21.webm!\n",
            "Done video little_rock-22.webm!\n",
            "Done video little_rock-23.webm!\n",
            "Done video little_rock-24.webm!\n",
            "Done video little_rock-25.webm!\n",
            "Done video little_rock-26.webm!\n",
            "Done video little_rock-27.webm!\n",
            "Done video little_rock-28.webm!\n",
            "Done video little_rock-29.webm!\n",
            "Done video little_rock-3.webm!\n",
            "Done video little_rock-30.webm!\n",
            "Done video little_rock-31.webm!\n",
            "Done video little_rock-32.webm!\n",
            "Done video little_rock-33.webm!\n",
            "Done video little_rock-34.webm!\n",
            "Done video little_rock-35.webm!\n",
            "Done video little_rock-36.webm!\n",
            "Done video little_rock-37.webm!\n",
            "Done video little_rock-38.webm!\n",
            "Done video little_rock-39.webm!\n",
            "Done video little_rock-4.webm!\n",
            "Done video little_rock-5.webm!\n",
            "Done video little_rock-6.webm!\n",
            "Done video little_rock-7.webm!\n",
            "Done video little_rock-8.webm!\n",
            "Done video little_rock-9.webm!\n"
          ]
        }
      ]
    },
    {
      "cell_type": "markdown",
      "source": [
        "## Chained for life"
      ],
      "metadata": {
        "id": "Ok8tRKNzfjO7"
      }
    },
    {
      "cell_type": "code",
      "source": [
        "chained_for_life_dir = \"/content/drive/MyDrive/cs406/TRECVID/scenes/ChainedforLife\""
      ],
      "metadata": {
        "id": "sbhJAqcYfgqE"
      },
      "execution_count": null,
      "outputs": []
    },
    {
      "cell_type": "code",
      "source": [
        "video_array = sorted(os.listdir(chained_for_life_dir))\n",
        "print(video_array[i][:-5])"
      ],
      "metadata": {
        "colab": {
          "base_uri": "https://localhost:8080/",
          "height": 199
        },
        "id": "YsK97A8RfhGq",
        "outputId": "8b43e844-294b-48d7-d54f-f40c29a5588f"
      },
      "execution_count": null,
      "outputs": [
        {
          "output_type": "error",
          "ename": "FileNotFoundError",
          "evalue": "ignored",
          "traceback": [
            "\u001b[0;31m---------------------------------------------------------------------------\u001b[0m",
            "\u001b[0;31mFileNotFoundError\u001b[0m                         Traceback (most recent call last)",
            "\u001b[0;32m<ipython-input-7-dd47b341ce01>\u001b[0m in \u001b[0;36m<cell line: 1>\u001b[0;34m()\u001b[0m\n\u001b[0;32m----> 1\u001b[0;31m \u001b[0mvideo_array\u001b[0m \u001b[0;34m=\u001b[0m \u001b[0msorted\u001b[0m\u001b[0;34m(\u001b[0m\u001b[0mos\u001b[0m\u001b[0;34m.\u001b[0m\u001b[0mlistdir\u001b[0m\u001b[0;34m(\u001b[0m\u001b[0mchained_for_life_dir\u001b[0m\u001b[0;34m)\u001b[0m\u001b[0;34m)\u001b[0m\u001b[0;34m\u001b[0m\u001b[0;34m\u001b[0m\u001b[0m\n\u001b[0m\u001b[1;32m      2\u001b[0m \u001b[0mprint\u001b[0m\u001b[0;34m(\u001b[0m\u001b[0mvideo_array\u001b[0m\u001b[0;34m[\u001b[0m\u001b[0mi\u001b[0m\u001b[0;34m]\u001b[0m\u001b[0;34m[\u001b[0m\u001b[0;34m:\u001b[0m\u001b[0;34m-\u001b[0m\u001b[0;36m5\u001b[0m\u001b[0;34m]\u001b[0m\u001b[0;34m)\u001b[0m\u001b[0;34m\u001b[0m\u001b[0;34m\u001b[0m\u001b[0m\n",
            "\u001b[0;31mFileNotFoundError\u001b[0m: [Errno 2] No such file or directory: '/content/drive/MyDrive/cs406/TRECVID/scenes/ChainedforLife'"
          ]
        }
      ]
    },
    {
      "cell_type": "code",
      "source": [],
      "metadata": {
        "id": "0Y0_BtNSfvy_"
      },
      "execution_count": null,
      "outputs": []
    }
  ]
}