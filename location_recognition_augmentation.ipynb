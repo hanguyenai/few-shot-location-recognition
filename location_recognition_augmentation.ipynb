{
  "cells": [
    {
      "cell_type": "code",
      "execution_count": null,
      "metadata": {
        "colab": {
          "base_uri": "https://localhost:8080/"
        },
        "id": "KQbV0tpR_q4V",
        "outputId": "9e5866c0-94fc-4595-9bea-f0b6d3139a4a"
      },
      "outputs": [
        {
          "name": "stdout",
          "output_type": "stream",
          "text": [
            "Mounted at /content/drive\n"
          ]
        }
      ],
      "source": [
        "from google.colab import drive\n",
        "drive.mount('/content/drive')"
      ]
    },
    {
      "cell_type": "code",
      "execution_count": null,
      "metadata": {
        "id": "CSkQanFjd_W3"
      },
      "outputs": [],
      "source": [
        "import os\n",
        "import pickle\n",
        "import cv2\n",
        "import tqdm\n",
        "from pathlib import Path\n",
        "import imageio as iio\n",
        "import imgaug.augmenters as ia\n",
        "import imgaug\n",
        "import numpy as np\n",
        "from PIL import Image, ImageOps"
      ]
    },
    {
      "cell_type": "code",
      "execution_count": null,
      "metadata": {
        "colab": {
          "base_uri": "https://localhost:8080/"
        },
        "id": "7K1FVq2a16-Z",
        "outputId": "2c98d9c1-03a5-4b2f-8d60-262702cf5005"
      },
      "outputs": [
        {
          "name": "stdout",
          "output_type": "stream",
          "text": [
            "Class Names: ['calloused_hands_baseball_field', 'calloused_hands_car', 'calloused_hands_diner', 'calloused_hands_josh_s_house', 'calloused_hands_rabbi_s_house', 'calloused_hands_school', 'calloused_hands_synagogue', 'chained_for_life_garden', 'chained_for_life_hospital', 'chained_for_life_hotel', 'liberty_kid_carnival', 'liberty_kid_house1', 'liberty_kid_house2', 'liberty_kid_prison', 'liberty_kid_statue_of_liberty', 'like_me_diner', 'like_me_gas_station', 'like_me_motel', 'little_rock_caravan', 'little_rock_fun_place', 'little_rock_gallery', 'little_rock_house1', 'little_rock_house2', 'little_rock_motel', 'little_rock_shop', 'losing_ground_home1', 'losing_ground_home2', 'losing_ground_neighbourhood', 'losing_ground_rental_house', 'losing_ground_rooftop', 'losing_ground_university-workplace']\n",
            "Number of classes:  31\n"
          ]
        }
      ],
      "source": [
        "data_dir = '/content/drive/MyDrive/cs406/TRECVID/Dataset'\n",
        "\n",
        "class_names = sorted(os.listdir(data_dir))\n",
        "print(\"Class Names:\", class_names)\n",
        "print(\"Number of classes: \", len(class_names))"
      ]
    },
    {
      "cell_type": "code",
      "execution_count": null,
      "metadata": {
        "id": "reZPa7xH4-qW"
      },
      "outputs": [],
      "source": [
        "source = '/content/drive/MyDrive/cs406/TRECVID/Dataset'\n",
        "target = '/content/drive/MyDrive/cs406/TRECVID/datadir'"
      ]
    },
    {
      "cell_type": "code",
      "execution_count": null,
      "metadata": {
        "colab": {
          "base_uri": "https://localhost:8080/"
        },
        "id": "LXs7u2xk4Kcm",
        "outputId": "8eca87c0-cf77-4819-8b58-7c6094f5ddb4"
      },
      "outputs": [
        {
          "name": "stdout",
          "output_type": "stream",
          "text": [
            "['/calloused_hands_baseball_field', '/calloused_hands_car', '/calloused_hands_diner', '/calloused_hands_josh_s_house', '/calloused_hands_rabbi_s_house', '/calloused_hands_school', '/calloused_hands_synagogue', '/chained_for_life_garden', '/chained_for_life_hospital', '/chained_for_life_hotel', '/liberty_kid_carnival', '/liberty_kid_house1', '/liberty_kid_house2', '/liberty_kid_prison', '/liberty_kid_statue_of_liberty', '/like_me_diner', '/like_me_gas_station', '/like_me_motel', '/little_rock_caravan', '/little_rock_fun_place', '/little_rock_gallery', '/little_rock_house1', '/little_rock_house2', '/little_rock_motel', '/little_rock_shop', '/losing_ground_home1', '/losing_ground_home2', '/losing_ground_neighbourhood', '/losing_ground_rental_house', '/losing_ground_rooftop', '/losing_ground_university-workplace']\n"
          ]
        }
      ],
      "source": [
        "iter = ['/' + class_name for class_name in class_names]\n",
        "print(iter)"
      ]
    },
    {
      "cell_type": "code",
      "execution_count": null,
      "metadata": {
        "id": "VeWCgtat5qHP"
      },
      "outputs": [],
      "source": [
        "# Creating folder\n",
        "for class_name in class_names:\n",
        "  try:\n",
        "    os.mkdir(target + '/' + class_name)\n",
        "    print(f'Make dir {class_name} successful!')\n",
        "  except:\n",
        "    pass"
      ]
    },
    {
      "cell_type": "markdown",
      "metadata": {
        "id": "C14i7SOF1T27"
      },
      "source": [
        "## Single transform"
      ]
    },
    {
      "cell_type": "code",
      "execution_count": null,
      "metadata": {
        "id": "ok_mHj7NeWHq"
      },
      "outputs": [],
      "source": [
        "def ChannelShuffle(source, target):\n",
        "    for i in iter:\n",
        "        count = 0\n",
        "        for file in Path(source + \"/\" + i).iterdir():\n",
        "            img = iio.imread(file)\n",
        "            count += 1\n",
        "            aug = ia.ChannelShuffle(1)\n",
        "            imgnew = aug.augment_image(img)\n",
        "            imgnew = cv2.cvtColor(imgnew, cv2.COLOR_RGBA2RGB)\n",
        "            img = cv2.cvtColor(img, cv2.COLOR_RGBA2RGB)\n",
        "            iio.imwrite(target + '/' + i + '/' + str(count) + \"_channel_shift\" + '.JPG', imgnew)\n",
        "            iio.imwrite(target + '/' + i + '/' + str(count) + '.JPG', img)"
      ]
    },
    {
      "cell_type": "code",
      "execution_count": null,
      "metadata": {
        "id": "XL7RaICd0Mh9"
      },
      "outputs": [],
      "source": [
        "def flipImages(source, target):\n",
        "    for i in iter:\n",
        "        count = 0\n",
        "        for j in os.listdir(source + i):\n",
        "            count += 1\n",
        "            img = Image.open(source + i + '/'+ j)\n",
        "            im_flip = ImageOps.flip(img)\n",
        "            im_mirror = ImageOps.mirror(img)\n",
        "            if im_flip.mode == 'RGBA':\n",
        "              im_flip = im_flip.convert('RGB')\n",
        "            if im_mirror.mode == 'RGBA':\n",
        "              im_mirror = im_mirror.convert('RGB')\n",
        "            im_flip.save(target + '/' + i + '/' + str(count) + \"_flipped\" + \".JPG\")\n",
        "            im_mirror.save(target + '/' + i + '/' + str(count) + \"_mirrored\" + \".JPG\")\n",
        "            img.close()"
      ]
    },
    {
      "cell_type": "code",
      "execution_count": null,
      "metadata": {
        "id": "nFxBmpTq0QYF"
      },
      "outputs": [],
      "source": [
        "def GaussianBlur(source, target):\n",
        "    for i in iter:\n",
        "        count = 0\n",
        "        for file in Path(source + \"/\" + i).iterdir():\n",
        "            img = iio.imread(file)\n",
        "            count += 1\n",
        "            aug = ia.GaussianBlur()\n",
        "            imgnew = aug.augment_image(img)\n",
        "            imgnew = cv2.cvtColor(imgnew, cv2.COLOR_RGBA2RGB)\n",
        "            iio.imwrite(target + '/' + i + '/' + str(count) + \"_gaussian_blur\" + '.JPG', imgnew)\n",
        "            aug = ia.Sharpen(alpha=(0,1.0), lightness=(.75, 1.5))\n",
        "            imgnew = aug.augment_image(img)\n",
        "            imgnew = cv2.cvtColor(imgnew, cv2.COLOR_RGBA2RGB)\n",
        "            iio.imwrite(target + '/' + i + '/' + str(count) + \"_sharpen\" + '.JPG', imgnew)\n",
        "            aug = ia.AdditiveGaussianNoise(loc=0, scale=(0.0,0.05*225), per_channel=0.5)\n",
        "            imgnew = aug.augment_image(img)\n",
        "            imgnew = cv2.cvtColor(imgnew, cv2.COLOR_RGBA2RGB)\n",
        "            iio.imwrite(target + '/' + i + '/' + str(count) + \"_AdditiveNoise\" + '.JPG', imgnew)"
      ]
    },
    {
      "cell_type": "code",
      "execution_count": null,
      "metadata": {
        "id": "r5A8VrNG0jwc"
      },
      "outputs": [],
      "source": [
        "def GaussianNoise(source, target):\n",
        "    for i in iter:\n",
        "        count = 0\n",
        "        for file in Path(source + \"/\" + i).iterdir():\n",
        "            img = iio.imread(file)\n",
        "            count += 1\n",
        "            aug = ia.AdditiveGaussianNoise(scale=(0, 0.4*255))\n",
        "            imgnew = aug.augment_image(img)\n",
        "            iio.imwrite(target + '/' + i + '/' + str(count) + \"_gaussian_noise\" + '.JPG', imgnew)\n",
        "            iio.imwrite(target + '/' + i + '/' + str(count) + '.JPG', img)"
      ]
    },
    {
      "cell_type": "code",
      "execution_count": null,
      "metadata": {
        "id": "0u2xQAyM0p01"
      },
      "outputs": [],
      "source": [
        "def rotateImages(source, target, angle):\n",
        "    for i in iter:\n",
        "        count = 0\n",
        "        for j in os.listdir(source + i):\n",
        "            count += 1\n",
        "            img = Image.open(source + i + '/'+ j)\n",
        "            im_rotate = img.rotate(angle)\n",
        "            if im_rotate.mode == 'RGBA':\n",
        "              im_rotate = im_rotate.convert('RGB')\n",
        "            im_rotate.save(target + i + \"/\" + str(count) + \"_\" + str(angle) + \".JPG\")\n",
        "            img.close()"
      ]
    },
    {
      "cell_type": "code",
      "execution_count": null,
      "metadata": {
        "id": "WTjBaRw80yGB"
      },
      "outputs": [],
      "source": [
        "def shear(source, target):\n",
        "    for i in iter:\n",
        "        count = 0\n",
        "        for j in os.listdir(source + i):\n",
        "            with Image(filename = (source + '/' + i + '/' + j)) as image:\n",
        "                with image.clone() as shear:\n",
        "                    shear.shear()"
      ]
    },
    {
      "cell_type": "code",
      "execution_count": null,
      "metadata": {
        "colab": {
          "base_uri": "https://localhost:8080/"
        },
        "id": "2I8dWgWU13es",
        "outputId": "620d40a5-dfaa-4733-d559-be76f44f7db7"
      },
      "outputs": [
        {
          "name": "stderr",
          "output_type": "stream",
          "text": [
            "<ipython-input-62-ef8f0a112287>:5: DeprecationWarning: Starting with ImageIO v3 the behavior of this function will switch to that of iio.v3.imread. To keep the current behavior (and make this warning disappear) use `import imageio.v2 as imageio` or call `imageio.v2.imread` directly.\n",
            "  img = iio.imread(file)\n"
          ]
        }
      ],
      "source": [
        "ChannelShuffle(source, target)"
      ]
    },
    {
      "cell_type": "code",
      "execution_count": null,
      "metadata": {
        "id": "btgm7Pm6EewI"
      },
      "outputs": [],
      "source": [
        "flipImages(source, target)"
      ]
    },
    {
      "cell_type": "code",
      "execution_count": null,
      "metadata": {
        "colab": {
          "base_uri": "https://localhost:8080/"
        },
        "id": "2E1-MDgnFqlC",
        "outputId": "35c7487c-20ec-4a35-eda5-943bf5c44b51"
      },
      "outputs": [
        {
          "name": "stderr",
          "output_type": "stream",
          "text": [
            "<ipython-input-49-1ac7a8d7e20a>:5: DeprecationWarning: Starting with ImageIO v3 the behavior of this function will switch to that of iio.v3.imread. To keep the current behavior (and make this warning disappear) use `import imageio.v2 as imageio` or call `imageio.v2.imread` directly.\n",
            "  img = iio.imread(file)\n"
          ]
        }
      ],
      "source": [
        "GaussianBlur(source, target)"
      ]
    },
    {
      "cell_type": "code",
      "execution_count": null,
      "metadata": {
        "id": "Kneb4gmFNvFT"
      },
      "outputs": [],
      "source": [
        "for i in range(0, 360, 5):\n",
        "  rotateImages(source, target, i)"
      ]
    },
    {
      "cell_type": "markdown",
      "metadata": {
        "id": "Jw4INsJQ1AJ1"
      },
      "source": [
        "## Sequence transform"
      ]
    },
    {
      "cell_type": "markdown",
      "metadata": {
        "id": "eMc3ebTvH68C"
      },
      "source": [
        "### Multiple"
      ]
    },
    {
      "cell_type": "code",
      "execution_count": null,
      "metadata": {
        "id": "CK2VrXTB5lZc"
      },
      "outputs": [],
      "source": [
        "seq = ia.Sequential([\n",
        "    ia.Fliplr(0.5), # horizontal flips\n",
        "    ia.Crop(percent=(0, 0.1)), # random crops\n",
        "    # Small gaussian blur with random sigma between 0 and 0.5.\n",
        "    # But we only blur about 50% of all images.\n",
        "    ia.Sometimes(\n",
        "        0.5,\n",
        "        ia.GaussianBlur(sigma=(0, 0.5))\n",
        "    ),\n",
        "    # Strengthen or weaken the contrast in each image.\n",
        "    #ia.LinearContrast((0.75, 1.5)),\n",
        "    # Add gaussian noise.\n",
        "    # For 50% of all images, we sample the noise once per pixel.\n",
        "    # For the other 50% of all images, we sample the noise per pixel AND\n",
        "    # channel. This can change the color (not only brightness) of the\n",
        "    # pixels.\n",
        "    ia.AdditiveGaussianNoise(loc=0, scale=(0.0, 0.05*255), per_channel=0.5),\n",
        "    # Make some images brighter and some darker.\n",
        "    # In 20% of all cases, we sample the multiplier once per channel,\n",
        "    # which can end up changing the color of the images.\n",
        "    #ia.Multiply((0.8, 1.2), per_channel=0.2),\n",
        "    # Apply affine transformations to each image.\n",
        "    # Scale/zoom them, translate/move them, rotate them and shear them.\n",
        "    ia.Affine(\n",
        "        scale={\"x\": (0.8, 1.2), \"y\": (0.8, 1.2)},\n",
        "        translate_percent={\"x\": (-0.2, 0.2), \"y\": (-0.2, 0.2)},\n",
        "        rotate=(-25, 25),\n",
        "        shear=(-8, 8)\n",
        "    )\n",
        "], random_order=True) # apply augmenters in random order"
      ]
    },
    {
      "cell_type": "code",
      "execution_count": null,
      "metadata": {
        "id": "9roqgr9qHjdS"
      },
      "outputs": [],
      "source": [
        "def sequence(source, target):\n",
        "    for i in iter:\n",
        "        count = 0\n",
        "        for file in Path(source + \"/\" + i).iterdir():\n",
        "            img = iio.imread(file)\n",
        "            count += 1\n",
        "            for k in range(500):\n",
        "                imgnew = seq.augment_image(img);\n",
        "                imgnew = cv2.cvtColor(imgnew, cv2.COLOR_RGBA2RGB)\n",
        "                iio.imwrite(target + '/' + i + '/' + str(count) + \"_v\" + str(k) + '.JPG', imgnew)"
      ]
    },
    {
      "cell_type": "code",
      "execution_count": null,
      "metadata": {
        "colab": {
          "base_uri": "https://localhost:8080/",
          "height": 388
        },
        "id": "U-GQJVmVHslI",
        "outputId": "c4cda9d2-a032-41ea-c76f-a7d90d018461"
      },
      "outputs": [
        {
          "name": "stderr",
          "output_type": "stream",
          "text": [
            "<ipython-input-67-814d2c9918fa>:5: DeprecationWarning: Starting with ImageIO v3 the behavior of this function will switch to that of iio.v3.imread. To keep the current behavior (and make this warning disappear) use `import imageio.v2 as imageio` or call `imageio.v2.imread` directly.\n",
            "  img = iio.imread(file)\n"
          ]
        },
        {
          "ename": "FileNotFoundError",
          "evalue": "ignored",
          "output_type": "error",
          "traceback": [
            "\u001b[0;31m---------------------------------------------------------------------------\u001b[0m",
            "\u001b[0;31mFileNotFoundError\u001b[0m                         Traceback (most recent call last)",
            "\u001b[0;32m<ipython-input-72-efe81090d89b>\u001b[0m in \u001b[0;36m<cell line: 1>\u001b[0;34m()\u001b[0m\n\u001b[0;32m----> 1\u001b[0;31m \u001b[0msequence\u001b[0m\u001b[0;34m(\u001b[0m\u001b[0msource\u001b[0m\u001b[0;34m,\u001b[0m \u001b[0mtarget\u001b[0m\u001b[0;34m)\u001b[0m\u001b[0;34m\u001b[0m\u001b[0;34m\u001b[0m\u001b[0m\n\u001b[0m",
            "\u001b[0;32m<ipython-input-67-814d2c9918fa>\u001b[0m in \u001b[0;36msequence\u001b[0;34m(source, target)\u001b[0m\n\u001b[1;32m      8\u001b[0m                 \u001b[0mimgnew\u001b[0m \u001b[0;34m=\u001b[0m \u001b[0mseq\u001b[0m\u001b[0;34m.\u001b[0m\u001b[0maugment_image\u001b[0m\u001b[0;34m(\u001b[0m\u001b[0mimg\u001b[0m\u001b[0;34m)\u001b[0m\u001b[0;34m;\u001b[0m\u001b[0;34m\u001b[0m\u001b[0;34m\u001b[0m\u001b[0m\n\u001b[1;32m      9\u001b[0m                 \u001b[0mimgnew\u001b[0m \u001b[0;34m=\u001b[0m \u001b[0mcv2\u001b[0m\u001b[0;34m.\u001b[0m\u001b[0mcvtColor\u001b[0m\u001b[0;34m(\u001b[0m\u001b[0mimgnew\u001b[0m\u001b[0;34m,\u001b[0m \u001b[0mcv2\u001b[0m\u001b[0;34m.\u001b[0m\u001b[0mCOLOR_RGBA2RGB\u001b[0m\u001b[0;34m)\u001b[0m\u001b[0;34m\u001b[0m\u001b[0;34m\u001b[0m\u001b[0m\n\u001b[0;32m---> 10\u001b[0;31m                 \u001b[0miio\u001b[0m\u001b[0;34m.\u001b[0m\u001b[0mimwrite\u001b[0m\u001b[0;34m(\u001b[0m\u001b[0mtarget\u001b[0m \u001b[0;34m+\u001b[0m \u001b[0;34m'/'\u001b[0m \u001b[0;34m+\u001b[0m \u001b[0mi\u001b[0m \u001b[0;34m+\u001b[0m \u001b[0;34m'/'\u001b[0m \u001b[0;34m+\u001b[0m \u001b[0mstr\u001b[0m\u001b[0;34m(\u001b[0m\u001b[0mcount\u001b[0m\u001b[0;34m)\u001b[0m \u001b[0;34m+\u001b[0m \u001b[0;34m\"_v\"\u001b[0m \u001b[0;34m+\u001b[0m \u001b[0mstr\u001b[0m\u001b[0;34m(\u001b[0m\u001b[0mk\u001b[0m\u001b[0;34m)\u001b[0m \u001b[0;34m+\u001b[0m \u001b[0;34m'.JPG'\u001b[0m\u001b[0;34m,\u001b[0m \u001b[0mimgnew\u001b[0m\u001b[0;34m)\u001b[0m\u001b[0;34m\u001b[0m\u001b[0;34m\u001b[0m\u001b[0m\n\u001b[0m",
            "\u001b[0;32m/usr/local/lib/python3.10/dist-packages/imageio/v2.py\u001b[0m in \u001b[0;36mimwrite\u001b[0;34m(uri, im, format, **kwargs)\u001b[0m\n\u001b[1;32m    394\u001b[0m     \u001b[0mimopen_args\u001b[0m \u001b[0;34m=\u001b[0m \u001b[0mdecypher_format_arg\u001b[0m\u001b[0;34m(\u001b[0m\u001b[0mformat\u001b[0m\u001b[0;34m)\u001b[0m\u001b[0;34m\u001b[0m\u001b[0;34m\u001b[0m\u001b[0m\n\u001b[1;32m    395\u001b[0m     \u001b[0mimopen_args\u001b[0m\u001b[0;34m[\u001b[0m\u001b[0;34m\"legacy_mode\"\u001b[0m\u001b[0;34m]\u001b[0m \u001b[0;34m=\u001b[0m \u001b[0;32mTrue\u001b[0m\u001b[0;34m\u001b[0m\u001b[0;34m\u001b[0m\u001b[0m\n\u001b[0;32m--> 396\u001b[0;31m     \u001b[0;32mwith\u001b[0m \u001b[0mimopen\u001b[0m\u001b[0;34m(\u001b[0m\u001b[0muri\u001b[0m\u001b[0;34m,\u001b[0m \u001b[0;34m\"wi\"\u001b[0m\u001b[0;34m,\u001b[0m \u001b[0;34m**\u001b[0m\u001b[0mimopen_args\u001b[0m\u001b[0;34m)\u001b[0m \u001b[0;32mas\u001b[0m \u001b[0mfile\u001b[0m\u001b[0;34m:\u001b[0m\u001b[0;34m\u001b[0m\u001b[0;34m\u001b[0m\u001b[0m\n\u001b[0m\u001b[1;32m    397\u001b[0m         \u001b[0;32mreturn\u001b[0m \u001b[0mfile\u001b[0m\u001b[0;34m.\u001b[0m\u001b[0mwrite\u001b[0m\u001b[0;34m(\u001b[0m\u001b[0mim\u001b[0m\u001b[0;34m,\u001b[0m \u001b[0;34m**\u001b[0m\u001b[0mkwargs\u001b[0m\u001b[0;34m)\u001b[0m\u001b[0;34m\u001b[0m\u001b[0;34m\u001b[0m\u001b[0m\n\u001b[1;32m    398\u001b[0m \u001b[0;34m\u001b[0m\u001b[0m\n",
            "\u001b[0;32m/usr/local/lib/python3.10/dist-packages/imageio/core/imopen.py\u001b[0m in \u001b[0;36mimopen\u001b[0;34m(uri, io_mode, plugin, extension, format_hint, legacy_mode, **kwargs)\u001b[0m\n\u001b[1;32m    111\u001b[0m         \u001b[0mrequest\u001b[0m\u001b[0;34m.\u001b[0m\u001b[0mformat_hint\u001b[0m \u001b[0;34m=\u001b[0m \u001b[0mformat_hint\u001b[0m\u001b[0;34m\u001b[0m\u001b[0;34m\u001b[0m\u001b[0m\n\u001b[1;32m    112\u001b[0m     \u001b[0;32melse\u001b[0m\u001b[0;34m:\u001b[0m\u001b[0;34m\u001b[0m\u001b[0;34m\u001b[0m\u001b[0m\n\u001b[0;32m--> 113\u001b[0;31m         \u001b[0mrequest\u001b[0m \u001b[0;34m=\u001b[0m \u001b[0mRequest\u001b[0m\u001b[0;34m(\u001b[0m\u001b[0muri\u001b[0m\u001b[0;34m,\u001b[0m \u001b[0mio_mode\u001b[0m\u001b[0;34m,\u001b[0m \u001b[0mformat_hint\u001b[0m\u001b[0;34m=\u001b[0m\u001b[0mformat_hint\u001b[0m\u001b[0;34m,\u001b[0m \u001b[0mextension\u001b[0m\u001b[0;34m=\u001b[0m\u001b[0mextension\u001b[0m\u001b[0;34m)\u001b[0m\u001b[0;34m\u001b[0m\u001b[0;34m\u001b[0m\u001b[0m\n\u001b[0m\u001b[1;32m    114\u001b[0m \u001b[0;34m\u001b[0m\u001b[0m\n\u001b[1;32m    115\u001b[0m     \u001b[0msource\u001b[0m \u001b[0;34m=\u001b[0m \u001b[0;34m\"<bytes>\"\u001b[0m \u001b[0;32mif\u001b[0m \u001b[0misinstance\u001b[0m\u001b[0;34m(\u001b[0m\u001b[0muri\u001b[0m\u001b[0;34m,\u001b[0m \u001b[0mbytes\u001b[0m\u001b[0;34m)\u001b[0m \u001b[0;32melse\u001b[0m \u001b[0muri\u001b[0m\u001b[0;34m\u001b[0m\u001b[0;34m\u001b[0m\u001b[0m\n",
            "\u001b[0;32m/usr/local/lib/python3.10/dist-packages/imageio/core/request.py\u001b[0m in \u001b[0;36m__init__\u001b[0;34m(self, uri, mode, extension, format_hint, **kwargs)\u001b[0m\n\u001b[1;32m    245\u001b[0m \u001b[0;34m\u001b[0m\u001b[0m\n\u001b[1;32m    246\u001b[0m         \u001b[0;31m# Parse what was given\u001b[0m\u001b[0;34m\u001b[0m\u001b[0;34m\u001b[0m\u001b[0m\n\u001b[0;32m--> 247\u001b[0;31m         \u001b[0mself\u001b[0m\u001b[0;34m.\u001b[0m\u001b[0m_parse_uri\u001b[0m\u001b[0;34m(\u001b[0m\u001b[0muri\u001b[0m\u001b[0;34m)\u001b[0m\u001b[0;34m\u001b[0m\u001b[0;34m\u001b[0m\u001b[0m\n\u001b[0m\u001b[1;32m    248\u001b[0m \u001b[0;34m\u001b[0m\u001b[0m\n\u001b[1;32m    249\u001b[0m         \u001b[0;31m# Set extension\u001b[0m\u001b[0;34m\u001b[0m\u001b[0;34m\u001b[0m\u001b[0m\n",
            "\u001b[0;32m/usr/local/lib/python3.10/dist-packages/imageio/core/request.py\u001b[0m in \u001b[0;36m_parse_uri\u001b[0;34m(self, uri)\u001b[0m\n\u001b[1;32m    410\u001b[0m                 \u001b[0mdn\u001b[0m \u001b[0;34m=\u001b[0m \u001b[0mos\u001b[0m\u001b[0;34m.\u001b[0m\u001b[0mpath\u001b[0m\u001b[0;34m.\u001b[0m\u001b[0mdirname\u001b[0m\u001b[0;34m(\u001b[0m\u001b[0mfn\u001b[0m\u001b[0;34m)\u001b[0m\u001b[0;34m\u001b[0m\u001b[0;34m\u001b[0m\u001b[0m\n\u001b[1;32m    411\u001b[0m                 \u001b[0;32mif\u001b[0m \u001b[0;32mnot\u001b[0m \u001b[0mos\u001b[0m\u001b[0;34m.\u001b[0m\u001b[0mpath\u001b[0m\u001b[0;34m.\u001b[0m\u001b[0mexists\u001b[0m\u001b[0;34m(\u001b[0m\u001b[0mdn\u001b[0m\u001b[0;34m)\u001b[0m\u001b[0;34m:\u001b[0m\u001b[0;34m\u001b[0m\u001b[0;34m\u001b[0m\u001b[0m\n\u001b[0;32m--> 412\u001b[0;31m                     \u001b[0;32mraise\u001b[0m \u001b[0mFileNotFoundError\u001b[0m\u001b[0;34m(\u001b[0m\u001b[0;34m\"The directory %r does not exist\"\u001b[0m \u001b[0;34m%\u001b[0m \u001b[0mdn\u001b[0m\u001b[0;34m)\u001b[0m\u001b[0;34m\u001b[0m\u001b[0;34m\u001b[0m\u001b[0m\n\u001b[0m\u001b[1;32m    413\u001b[0m \u001b[0;34m\u001b[0m\u001b[0m\n\u001b[1;32m    414\u001b[0m     \u001b[0;34m@\u001b[0m\u001b[0mproperty\u001b[0m\u001b[0;34m\u001b[0m\u001b[0;34m\u001b[0m\u001b[0m\n",
            "\u001b[0;31mFileNotFoundError\u001b[0m: The directory '/content/drive/MyDrive/cs406/TRECVID/dataset/calloused_hands_baseball_field' does not exist"
          ]
        }
      ],
      "source": [
        "sequence(source, target)"
      ]
    },
    {
      "cell_type": "markdown",
      "metadata": {
        "id": "MrrhVCffH08m"
      },
      "source": [
        "### Augmentation"
      ]
    },
    {
      "cell_type": "code",
      "execution_count": null,
      "metadata": {
        "id": "u7i2k35qH59x"
      },
      "outputs": [],
      "source": [
        "sometimes = lambda aug: ia.Sometimes(0.5, aug)\n",
        "\n",
        "# Define our sequence of augmentation steps that will be applied to every image.\n",
        "seq = ia.Sequential(\n",
        "    [\n",
        "        #\n",
        "        # Apply the following augmenters to most images.\n",
        "        #\n",
        "        #ia.Fliplr(0.5), # horizontally flip 50% of all images\n",
        "        #ia.Flipud(0.2), # vertically flip 20% of all images\n",
        "\n",
        "        # crop some of the images by 0-10% of their height/width\n",
        "        #sometimes(ia.Crop(percent=(0, 0.1))),\n",
        "\n",
        "        # Apply affine transformations to some of the images\n",
        "        # - scale to 80-120% of image height/width (each axis independently)\n",
        "        # - translate by -20 to +20 relative to height/width (per axis)\n",
        "        # - rotate by -45 to +45 degrees\n",
        "        # - shear by -16 to +16 degrees\n",
        "        # - order: use nearest neighbour or bilinear interpolation (fast)\n",
        "        # - mode: use any available mode to fill newly created pixels\n",
        "        #         see API or scikit-image for which modes are available\n",
        "        # - cval: if the mode is constant, then use a random brightness\n",
        "        #         for the newly created pixels (e.g. sometimes black,\n",
        "        #         sometimes white)\n",
        "        sometimes(ia.Affine(\n",
        "            #scale={\"x\": (0.8, 1.2), \"y\": (0.8, 1.2)},\n",
        "            translate_percent={\"x\": (-0.2, 0.2), \"y\": (-0.2, 0.2)},\n",
        "            #rotate=(-45, 45),\n",
        "            shear=(-16, 16),\n",
        "            order=[0, 1],\n",
        "            cval=(0, 255),\n",
        "            mode=imgaug.ALL\n",
        "        )),\n",
        "\n",
        "        #\n",
        "        # Execute 0 to 5 of the following (less important) augmenters per\n",
        "        # image. Don't execute all of them, as that would often be way too\n",
        "        # strong.\n",
        "        #\n",
        "        ia.SomeOf((0, 5),\n",
        "            [\n",
        "                # Convert some images into their superpixel representation,\n",
        "                # sample between 20 and 200 superpixels per image, but do\n",
        "                # not replace all superpixels with their average, only\n",
        "                # some of them (p_replace).\n",
        "                sometimes(\n",
        "                    ia.Superpixels(\n",
        "                        p_replace=(0, 1.0),\n",
        "                        n_segments=(20, 200)\n",
        "                    )\n",
        "                ),\n",
        "\n",
        "                # Blur each image with varying strength using\n",
        "                # gaussian blur (sigma between 0 and 3.0),\n",
        "                # average/uniform blur (kernel size between 2x2 and 7x7)\n",
        "                # median blur (kernel size between 3x3 and 11x11).\n",
        "                ia.OneOf([\n",
        "                    ia.GaussianBlur((0, 3.0)),\n",
        "                    ia.AverageBlur(k=(2, 7)),\n",
        "                    ia.MedianBlur(k=(3, 11)),\n",
        "                ]),\n",
        "\n",
        "                # Sharpen each image, overlay the result with the original\n",
        "                # image using an alpha between 0 (no sharpening) and 1\n",
        "                # (full sharpening effect).\n",
        "                ia.Sharpen(alpha=(0, 1.0), lightness=(0.75, 1.5)),\n",
        "\n",
        "                # Same as sharpen, but for an embossing effect.\n",
        "                ia.Emboss(alpha=(0, 1.0), strength=(0, 2.0)),\n",
        "\n",
        "                # Search in some images either for all edges or for\n",
        "                # directed edges. These edges are then marked in a black\n",
        "                # and white image and overlayed with the original image\n",
        "                # using an alpha of 0 to 0.7.\n",
        "                sometimes(ia.OneOf([\n",
        "                    ia.EdgeDetect(alpha=(0, 0.7)),\n",
        "                    ia.DirectedEdgeDetect(\n",
        "                        alpha=(0, 0.7), direction=(0.0, 1.0)\n",
        "                    ),\n",
        "                ])),\n",
        "\n",
        "                # Add gaussian noise to some images.\n",
        "                # In 50% of these cases, the noise is randomly sampled per\n",
        "                # channel and pixel.\n",
        "                # In the other 50% of all cases it is sampled once per\n",
        "                # pixel (i.e. brightness change).\n",
        "                ia.AdditiveGaussianNoise(\n",
        "                    loc=0, scale=(0.0, 0.05*255), per_channel=0.5\n",
        "                ),\n",
        "\n",
        "                # Either drop randomly 1 to 10% of all pixels (i.e. set\n",
        "                # them to black) or drop them on an image with 2-5% percent\n",
        "                # of the original size, leading to large dropped\n",
        "                # rectangles.\n",
        "                ia.OneOf([\n",
        "                    ia.Dropout((0.01, 0.1), per_channel=0.5),\n",
        "                    ia.CoarseDropout(\n",
        "                        (0.03, 0.15), size_percent=(0.02, 0.05),\n",
        "                        per_channel=0.2\n",
        "                    ),\n",
        "                ]),\n",
        "\n",
        "                # Invert each image's channel with 5% probability.\n",
        "                # This sets each pixel value v to 255-v.\n",
        "                #ia.Invert(0.05, per_channel=True), # invert color channels\n",
        "\n",
        "                # Add a value of -10 to 10 to each pixel.\n",
        "                #ia.Add((-10, 10), per_channel=0.5),\n",
        "\n",
        "                # Change brightness of images (50-150% of original value).\n",
        "                ia.Multiply((0.5, 1.5), per_channel=0.5),\n",
        "\n",
        "                # Improve or worsen the contrast of images.\n",
        "                ia.LinearContrast((0.5, 2.0), per_channel=0.5),\n",
        "\n",
        "                # Convert each image to grayscale and then overlay the\n",
        "                # result with the original with random alpha. I.e. remove\n",
        "                # colors with varying strengths.\n",
        "                #ia.Grayscale(alpha=(0.0, 1.0)),\n",
        "\n",
        "                # In some images move pixels locally around (with random\n",
        "                # strengths).\n",
        "                sometimes(\n",
        "                    ia.ElasticTransformation(alpha=(0.5, 3.5), sigma=0.25)\n",
        "                ),\n",
        "\n",
        "                # In some images distort local areas with varying strength.\n",
        "                sometimes(ia.PiecewiseAffine(scale=(0.01, 0.05)))\n",
        "            ],\n",
        "            # do all of the above augmentations in random order\n",
        "            random_order=True\n",
        "        )\n",
        "    ],\n",
        "    # do all of the above augmentations in random order\n",
        "    random_order=True)\n",
        "def sequence():\n",
        "    for i in iter:\n",
        "        count = 0\n",
        "        for file in Path(source + \"/\" + i).iterdir():\n",
        "            img = iio.imread(file)\n",
        "            count += 1\n",
        "            for k in range(500):\n",
        "                imgnew = seq.augment_image(img);\n",
        "                iio.imwrite(target + '/' + i + '/' + str(count) + \"_v\" + str(k) + '.JPG', imgnew)\n",
        "            iio.imwrite(target + '/' + i + '/' + str(count) + '.JPG', img)"
      ]
    },
    {
      "cell_type": "code",
      "execution_count": null,
      "metadata": {
        "id": "XdkUaSg4H_nc"
      },
      "outputs": [],
      "source": [
        "def sequence():\n",
        "    for i in iter:\n",
        "        count = 0\n",
        "        for file in Path(source + \"/\" + i).iterdir():\n",
        "            img = iio.imread(file)\n",
        "            count += 1\n",
        "            for k in range(500):\n",
        "                imgnew = seq.augment_image(img);\n",
        "                imgnew = cv2.cvtColor(imgnew, cv2.COLOR_RGBA2RGB)\n",
        "                iio.imwrite(target + '/' + i + '/' + str(count) + \"_v\" + str(k) + '.JPG', imgnew)\n",
        "            iio.imwrite(target + '/' + i + '/' + str(count) + '.JPG', img)"
      ]
    },
    {
      "cell_type": "code",
      "execution_count": null,
      "metadata": {
        "colab": {
          "base_uri": "https://localhost:8080/",
          "height": 1000
        },
        "id": "52GuDlHqL_M-",
        "outputId": "02268a5b-a7c2-4d14-ba7d-3e660e7e4268"
      },
      "outputs": [
        {
          "name": "stderr",
          "output_type": "stream",
          "text": [
            "<ipython-input-58-4644c3903c4e>:5: DeprecationWarning: Starting with ImageIO v3 the behavior of this function will switch to that of iio.v3.imread. To keep the current behavior (and make this warning disappear) use `import imageio.v2 as imageio` or call `imageio.v2.imread` directly.\n",
            "  img = iio.imread(file)\n"
          ]
        },
        {
          "ename": "AttributeError",
          "evalue": "ignored",
          "output_type": "error",
          "traceback": [
            "\u001b[0;31m---------------------------------------------------------------------------\u001b[0m",
            "\u001b[0;31mAttributeError\u001b[0m                            Traceback (most recent call last)",
            "\u001b[0;32m<ipython-input-61-b549fe3cb243>\u001b[0m in \u001b[0;36m<cell line: 1>\u001b[0;34m()\u001b[0m\n\u001b[0;32m----> 1\u001b[0;31m \u001b[0msequence\u001b[0m\u001b[0;34m(\u001b[0m\u001b[0;34m)\u001b[0m\u001b[0;34m\u001b[0m\u001b[0;34m\u001b[0m\u001b[0m\n\u001b[0m",
            "\u001b[0;32m<ipython-input-58-4644c3903c4e>\u001b[0m in \u001b[0;36msequence\u001b[0;34m()\u001b[0m\n\u001b[1;32m      6\u001b[0m             \u001b[0mcount\u001b[0m \u001b[0;34m+=\u001b[0m \u001b[0;36m1\u001b[0m\u001b[0;34m\u001b[0m\u001b[0;34m\u001b[0m\u001b[0m\n\u001b[1;32m      7\u001b[0m             \u001b[0;32mfor\u001b[0m \u001b[0mk\u001b[0m \u001b[0;32min\u001b[0m \u001b[0mrange\u001b[0m\u001b[0;34m(\u001b[0m\u001b[0;36m500\u001b[0m\u001b[0;34m)\u001b[0m\u001b[0;34m:\u001b[0m\u001b[0;34m\u001b[0m\u001b[0;34m\u001b[0m\u001b[0m\n\u001b[0;32m----> 8\u001b[0;31m                 \u001b[0mimgnew\u001b[0m \u001b[0;34m=\u001b[0m \u001b[0mseq\u001b[0m\u001b[0;34m.\u001b[0m\u001b[0maugment_image\u001b[0m\u001b[0;34m(\u001b[0m\u001b[0mimg\u001b[0m\u001b[0;34m)\u001b[0m\u001b[0;34m;\u001b[0m\u001b[0;34m\u001b[0m\u001b[0;34m\u001b[0m\u001b[0m\n\u001b[0m\u001b[1;32m      9\u001b[0m                 \u001b[0mimgnew\u001b[0m \u001b[0;34m=\u001b[0m \u001b[0mcv2\u001b[0m\u001b[0;34m.\u001b[0m\u001b[0mcvtColor\u001b[0m\u001b[0;34m(\u001b[0m\u001b[0mimgnew\u001b[0m\u001b[0;34m,\u001b[0m \u001b[0mcv2\u001b[0m\u001b[0;34m.\u001b[0m\u001b[0mCOLOR_RGBA2RGB\u001b[0m\u001b[0;34m)\u001b[0m\u001b[0;34m\u001b[0m\u001b[0;34m\u001b[0m\u001b[0m\n\u001b[1;32m     10\u001b[0m                 \u001b[0miio\u001b[0m\u001b[0;34m.\u001b[0m\u001b[0mimwrite\u001b[0m\u001b[0;34m(\u001b[0m\u001b[0mtarget\u001b[0m \u001b[0;34m+\u001b[0m \u001b[0;34m'/'\u001b[0m \u001b[0;34m+\u001b[0m \u001b[0mi\u001b[0m \u001b[0;34m+\u001b[0m \u001b[0;34m'/'\u001b[0m \u001b[0;34m+\u001b[0m \u001b[0mstr\u001b[0m\u001b[0;34m(\u001b[0m\u001b[0mcount\u001b[0m\u001b[0;34m)\u001b[0m \u001b[0;34m+\u001b[0m \u001b[0;34m\"_v\"\u001b[0m \u001b[0;34m+\u001b[0m \u001b[0mstr\u001b[0m\u001b[0;34m(\u001b[0m\u001b[0mk\u001b[0m\u001b[0;34m)\u001b[0m \u001b[0;34m+\u001b[0m \u001b[0;34m'.JPG'\u001b[0m\u001b[0;34m,\u001b[0m \u001b[0mimgnew\u001b[0m\u001b[0;34m)\u001b[0m\u001b[0;34m\u001b[0m\u001b[0;34m\u001b[0m\u001b[0m\n",
            "\u001b[0;32m/usr/local/lib/python3.10/dist-packages/imgaug/augmenters/meta.py\u001b[0m in \u001b[0;36maugment_image\u001b[0;34m(self, image, hooks)\u001b[0m\n\u001b[1;32m    769\u001b[0m             \"got shape %s.\" % (image.shape,))\n\u001b[1;32m    770\u001b[0m         \u001b[0miabase\u001b[0m\u001b[0;34m.\u001b[0m\u001b[0m_warn_on_suspicious_single_image_shape\u001b[0m\u001b[0;34m(\u001b[0m\u001b[0mimage\u001b[0m\u001b[0;34m)\u001b[0m\u001b[0;34m\u001b[0m\u001b[0;34m\u001b[0m\u001b[0m\n\u001b[0;32m--> 771\u001b[0;31m         \u001b[0;32mreturn\u001b[0m \u001b[0mself\u001b[0m\u001b[0;34m.\u001b[0m\u001b[0maugment_images\u001b[0m\u001b[0;34m(\u001b[0m\u001b[0;34m[\u001b[0m\u001b[0mimage\u001b[0m\u001b[0;34m]\u001b[0m\u001b[0;34m,\u001b[0m \u001b[0mhooks\u001b[0m\u001b[0;34m=\u001b[0m\u001b[0mhooks\u001b[0m\u001b[0;34m)\u001b[0m\u001b[0;34m[\u001b[0m\u001b[0;36m0\u001b[0m\u001b[0;34m]\u001b[0m\u001b[0;34m\u001b[0m\u001b[0;34m\u001b[0m\u001b[0m\n\u001b[0m\u001b[1;32m    772\u001b[0m \u001b[0;34m\u001b[0m\u001b[0m\n\u001b[1;32m    773\u001b[0m     \u001b[0;32mdef\u001b[0m \u001b[0maugment_images\u001b[0m\u001b[0;34m(\u001b[0m\u001b[0mself\u001b[0m\u001b[0;34m,\u001b[0m \u001b[0mimages\u001b[0m\u001b[0;34m,\u001b[0m \u001b[0mparents\u001b[0m\u001b[0;34m=\u001b[0m\u001b[0;32mNone\u001b[0m\u001b[0;34m,\u001b[0m \u001b[0mhooks\u001b[0m\u001b[0;34m=\u001b[0m\u001b[0;32mNone\u001b[0m\u001b[0;34m)\u001b[0m\u001b[0;34m:\u001b[0m\u001b[0;34m\u001b[0m\u001b[0;34m\u001b[0m\u001b[0m\n",
            "\u001b[0;32m/usr/local/lib/python3.10/dist-packages/imgaug/augmenters/meta.py\u001b[0m in \u001b[0;36maugment_images\u001b[0;34m(self, images, parents, hooks)\u001b[0m\n\u001b[1;32m    820\u001b[0m         \"\"\"\n\u001b[1;32m    821\u001b[0m         \u001b[0miabase\u001b[0m\u001b[0;34m.\u001b[0m\u001b[0m_warn_on_suspicious_multi_image_shapes\u001b[0m\u001b[0;34m(\u001b[0m\u001b[0mimages\u001b[0m\u001b[0;34m)\u001b[0m\u001b[0;34m\u001b[0m\u001b[0;34m\u001b[0m\u001b[0m\n\u001b[0;32m--> 822\u001b[0;31m         return self.augment_batch_(\n\u001b[0m\u001b[1;32m    823\u001b[0m             \u001b[0mUnnormalizedBatch\u001b[0m\u001b[0;34m(\u001b[0m\u001b[0mimages\u001b[0m\u001b[0;34m=\u001b[0m\u001b[0mimages\u001b[0m\u001b[0;34m)\u001b[0m\u001b[0;34m,\u001b[0m\u001b[0;34m\u001b[0m\u001b[0;34m\u001b[0m\u001b[0m\n\u001b[1;32m    824\u001b[0m             \u001b[0mparents\u001b[0m\u001b[0;34m=\u001b[0m\u001b[0mparents\u001b[0m\u001b[0;34m,\u001b[0m\u001b[0;34m\u001b[0m\u001b[0;34m\u001b[0m\u001b[0m\n",
            "\u001b[0;32m/usr/local/lib/python3.10/dist-packages/imgaug/augmenters/meta.py\u001b[0m in \u001b[0;36maugment_batch_\u001b[0;34m(self, batch, parents, hooks)\u001b[0m\n\u001b[1;32m    639\u001b[0m         \u001b[0;32mwith\u001b[0m \u001b[0m_maybe_deterministic_ctx\u001b[0m\u001b[0;34m(\u001b[0m\u001b[0mself\u001b[0m\u001b[0;34m)\u001b[0m\u001b[0;34m:\u001b[0m\u001b[0;34m\u001b[0m\u001b[0;34m\u001b[0m\u001b[0m\n\u001b[1;32m    640\u001b[0m             \u001b[0;32mif\u001b[0m \u001b[0;32mnot\u001b[0m \u001b[0mbatch_inaug\u001b[0m\u001b[0;34m.\u001b[0m\u001b[0mempty\u001b[0m\u001b[0;34m:\u001b[0m\u001b[0;34m\u001b[0m\u001b[0;34m\u001b[0m\u001b[0m\n\u001b[0;32m--> 641\u001b[0;31m                 batch_inaug = self._augment_batch_(\n\u001b[0m\u001b[1;32m    642\u001b[0m                     \u001b[0mbatch_inaug\u001b[0m\u001b[0;34m,\u001b[0m\u001b[0;34m\u001b[0m\u001b[0;34m\u001b[0m\u001b[0m\n\u001b[1;32m    643\u001b[0m                     \u001b[0mrandom_state\u001b[0m\u001b[0;34m=\u001b[0m\u001b[0mself\u001b[0m\u001b[0;34m.\u001b[0m\u001b[0mrandom_state\u001b[0m\u001b[0;34m,\u001b[0m\u001b[0;34m\u001b[0m\u001b[0;34m\u001b[0m\u001b[0m\n",
            "\u001b[0;32m/usr/local/lib/python3.10/dist-packages/imgaug/augmenters/meta.py\u001b[0m in \u001b[0;36m_augment_batch_\u001b[0;34m(self, batch, random_state, parents, hooks)\u001b[0m\n\u001b[1;32m   3122\u001b[0m \u001b[0;34m\u001b[0m\u001b[0m\n\u001b[1;32m   3123\u001b[0m             \u001b[0;32mfor\u001b[0m \u001b[0mindex\u001b[0m \u001b[0;32min\u001b[0m \u001b[0morder\u001b[0m\u001b[0;34m:\u001b[0m\u001b[0;34m\u001b[0m\u001b[0;34m\u001b[0m\u001b[0m\n\u001b[0;32m-> 3124\u001b[0;31m                 batch = self[index].augment_batch_(\n\u001b[0m\u001b[1;32m   3125\u001b[0m                     \u001b[0mbatch\u001b[0m\u001b[0;34m,\u001b[0m\u001b[0;34m\u001b[0m\u001b[0;34m\u001b[0m\u001b[0m\n\u001b[1;32m   3126\u001b[0m                     \u001b[0mparents\u001b[0m\u001b[0;34m=\u001b[0m\u001b[0mparents\u001b[0m \u001b[0;34m+\u001b[0m \u001b[0;34m[\u001b[0m\u001b[0mself\u001b[0m\u001b[0;34m]\u001b[0m\u001b[0;34m,\u001b[0m\u001b[0;34m\u001b[0m\u001b[0;34m\u001b[0m\u001b[0m\n",
            "\u001b[0;32m/usr/local/lib/python3.10/dist-packages/imgaug/augmenters/meta.py\u001b[0m in \u001b[0;36maugment_batch_\u001b[0;34m(self, batch, parents, hooks)\u001b[0m\n\u001b[1;32m    639\u001b[0m         \u001b[0;32mwith\u001b[0m \u001b[0m_maybe_deterministic_ctx\u001b[0m\u001b[0;34m(\u001b[0m\u001b[0mself\u001b[0m\u001b[0;34m)\u001b[0m\u001b[0;34m:\u001b[0m\u001b[0;34m\u001b[0m\u001b[0;34m\u001b[0m\u001b[0m\n\u001b[1;32m    640\u001b[0m             \u001b[0;32mif\u001b[0m \u001b[0;32mnot\u001b[0m \u001b[0mbatch_inaug\u001b[0m\u001b[0;34m.\u001b[0m\u001b[0mempty\u001b[0m\u001b[0;34m:\u001b[0m\u001b[0;34m\u001b[0m\u001b[0;34m\u001b[0m\u001b[0m\n\u001b[0;32m--> 641\u001b[0;31m                 batch_inaug = self._augment_batch_(\n\u001b[0m\u001b[1;32m    642\u001b[0m                     \u001b[0mbatch_inaug\u001b[0m\u001b[0;34m,\u001b[0m\u001b[0;34m\u001b[0m\u001b[0;34m\u001b[0m\u001b[0m\n\u001b[1;32m    643\u001b[0m                     \u001b[0mrandom_state\u001b[0m\u001b[0;34m=\u001b[0m\u001b[0mself\u001b[0m\u001b[0;34m.\u001b[0m\u001b[0mrandom_state\u001b[0m\u001b[0;34m,\u001b[0m\u001b[0;34m\u001b[0m\u001b[0;34m\u001b[0m\u001b[0m\n",
            "\u001b[0;32m/usr/local/lib/python3.10/dist-packages/imgaug/augmenters/meta.py\u001b[0m in \u001b[0;36m_augment_batch_\u001b[0;34m(self, batch, random_state, parents, hooks)\u001b[0m\n\u001b[1;32m   3401\u001b[0m                 \u001b[0;32mif\u001b[0m \u001b[0mlen\u001b[0m\u001b[0;34m(\u001b[0m\u001b[0mactive\u001b[0m\u001b[0;34m)\u001b[0m \u001b[0;34m>\u001b[0m \u001b[0;36m0\u001b[0m\u001b[0;34m:\u001b[0m\u001b[0;34m\u001b[0m\u001b[0;34m\u001b[0m\u001b[0m\n\u001b[1;32m   3402\u001b[0m                     \u001b[0mbatch_sub\u001b[0m \u001b[0;34m=\u001b[0m \u001b[0mbatch\u001b[0m\u001b[0;34m.\u001b[0m\u001b[0msubselect_rows_by_indices\u001b[0m\u001b[0;34m(\u001b[0m\u001b[0mactive\u001b[0m\u001b[0;34m)\u001b[0m\u001b[0;34m\u001b[0m\u001b[0;34m\u001b[0m\u001b[0m\n\u001b[0;32m-> 3403\u001b[0;31m                     batch_sub = self[augmenter_index].augment_batch_(\n\u001b[0m\u001b[1;32m   3404\u001b[0m                         \u001b[0mbatch_sub\u001b[0m\u001b[0;34m,\u001b[0m\u001b[0;34m\u001b[0m\u001b[0;34m\u001b[0m\u001b[0m\n\u001b[1;32m   3405\u001b[0m                         \u001b[0mparents\u001b[0m\u001b[0;34m=\u001b[0m\u001b[0mparents\u001b[0m \u001b[0;34m+\u001b[0m \u001b[0;34m[\u001b[0m\u001b[0mself\u001b[0m\u001b[0;34m]\u001b[0m\u001b[0;34m,\u001b[0m\u001b[0;34m\u001b[0m\u001b[0;34m\u001b[0m\u001b[0m\n",
            "\u001b[0;32m/usr/local/lib/python3.10/dist-packages/imgaug/augmenters/meta.py\u001b[0m in \u001b[0;36maugment_batch_\u001b[0;34m(self, batch, parents, hooks)\u001b[0m\n\u001b[1;32m    639\u001b[0m         \u001b[0;32mwith\u001b[0m \u001b[0m_maybe_deterministic_ctx\u001b[0m\u001b[0;34m(\u001b[0m\u001b[0mself\u001b[0m\u001b[0;34m)\u001b[0m\u001b[0;34m:\u001b[0m\u001b[0;34m\u001b[0m\u001b[0;34m\u001b[0m\u001b[0m\n\u001b[1;32m    640\u001b[0m             \u001b[0;32mif\u001b[0m \u001b[0;32mnot\u001b[0m \u001b[0mbatch_inaug\u001b[0m\u001b[0;34m.\u001b[0m\u001b[0mempty\u001b[0m\u001b[0;34m:\u001b[0m\u001b[0;34m\u001b[0m\u001b[0;34m\u001b[0m\u001b[0m\n\u001b[0;32m--> 641\u001b[0;31m                 batch_inaug = self._augment_batch_(\n\u001b[0m\u001b[1;32m    642\u001b[0m                     \u001b[0mbatch_inaug\u001b[0m\u001b[0;34m,\u001b[0m\u001b[0;34m\u001b[0m\u001b[0;34m\u001b[0m\u001b[0m\n\u001b[1;32m    643\u001b[0m                     \u001b[0mrandom_state\u001b[0m\u001b[0;34m=\u001b[0m\u001b[0mself\u001b[0m\u001b[0;34m.\u001b[0m\u001b[0mrandom_state\u001b[0m\u001b[0;34m,\u001b[0m\u001b[0;34m\u001b[0m\u001b[0;34m\u001b[0m\u001b[0m\n",
            "\u001b[0;32m/usr/local/lib/python3.10/dist-packages/imgaug/augmenters/meta.py\u001b[0m in \u001b[0;36m_augment_batch_\u001b[0;34m(self, batch, random_state, parents, hooks)\u001b[0m\n\u001b[1;32m   3631\u001b[0m                 \u001b[0;32mif\u001b[0m \u001b[0maugmenters\u001b[0m \u001b[0;32mis\u001b[0m \u001b[0;32mnot\u001b[0m \u001b[0;32mNone\u001b[0m \u001b[0;32mand\u001b[0m \u001b[0mlen\u001b[0m\u001b[0;34m(\u001b[0m\u001b[0maugmenters\u001b[0m\u001b[0;34m)\u001b[0m \u001b[0;34m>\u001b[0m \u001b[0;36m0\u001b[0m\u001b[0;34m:\u001b[0m\u001b[0;34m\u001b[0m\u001b[0;34m\u001b[0m\u001b[0m\n\u001b[1;32m   3632\u001b[0m                     \u001b[0mbatch_sub\u001b[0m \u001b[0;34m=\u001b[0m \u001b[0mbatch\u001b[0m\u001b[0;34m.\u001b[0m\u001b[0msubselect_rows_by_indices\u001b[0m\u001b[0;34m(\u001b[0m\u001b[0mindices\u001b[0m\u001b[0;34m)\u001b[0m\u001b[0;34m\u001b[0m\u001b[0;34m\u001b[0m\u001b[0m\n\u001b[0;32m-> 3633\u001b[0;31m                     batch_sub = augmenters.augment_batch_(\n\u001b[0m\u001b[1;32m   3634\u001b[0m                         \u001b[0mbatch_sub\u001b[0m\u001b[0;34m,\u001b[0m\u001b[0;34m\u001b[0m\u001b[0;34m\u001b[0m\u001b[0m\n\u001b[1;32m   3635\u001b[0m                         \u001b[0mparents\u001b[0m\u001b[0;34m=\u001b[0m\u001b[0mparents\u001b[0m \u001b[0;34m+\u001b[0m \u001b[0;34m[\u001b[0m\u001b[0mself\u001b[0m\u001b[0;34m]\u001b[0m\u001b[0;34m,\u001b[0m\u001b[0;34m\u001b[0m\u001b[0;34m\u001b[0m\u001b[0m\n",
            "\u001b[0;32m/usr/local/lib/python3.10/dist-packages/imgaug/augmenters/meta.py\u001b[0m in \u001b[0;36maugment_batch_\u001b[0;34m(self, batch, parents, hooks)\u001b[0m\n\u001b[1;32m    639\u001b[0m         \u001b[0;32mwith\u001b[0m \u001b[0m_maybe_deterministic_ctx\u001b[0m\u001b[0;34m(\u001b[0m\u001b[0mself\u001b[0m\u001b[0;34m)\u001b[0m\u001b[0;34m:\u001b[0m\u001b[0;34m\u001b[0m\u001b[0;34m\u001b[0m\u001b[0m\n\u001b[1;32m    640\u001b[0m             \u001b[0;32mif\u001b[0m \u001b[0;32mnot\u001b[0m \u001b[0mbatch_inaug\u001b[0m\u001b[0;34m.\u001b[0m\u001b[0mempty\u001b[0m\u001b[0;34m:\u001b[0m\u001b[0;34m\u001b[0m\u001b[0;34m\u001b[0m\u001b[0m\n\u001b[0;32m--> 641\u001b[0;31m                 batch_inaug = self._augment_batch_(\n\u001b[0m\u001b[1;32m    642\u001b[0m                     \u001b[0mbatch_inaug\u001b[0m\u001b[0;34m,\u001b[0m\u001b[0;34m\u001b[0m\u001b[0;34m\u001b[0m\u001b[0m\n\u001b[1;32m    643\u001b[0m                     \u001b[0mrandom_state\u001b[0m\u001b[0;34m=\u001b[0m\u001b[0mself\u001b[0m\u001b[0;34m.\u001b[0m\u001b[0mrandom_state\u001b[0m\u001b[0;34m,\u001b[0m\u001b[0;34m\u001b[0m\u001b[0;34m\u001b[0m\u001b[0m\n",
            "\u001b[0;32m/usr/local/lib/python3.10/dist-packages/imgaug/augmenters/meta.py\u001b[0m in \u001b[0;36m_augment_batch_\u001b[0;34m(self, batch, random_state, parents, hooks)\u001b[0m\n\u001b[1;32m   3122\u001b[0m \u001b[0;34m\u001b[0m\u001b[0m\n\u001b[1;32m   3123\u001b[0m             \u001b[0;32mfor\u001b[0m \u001b[0mindex\u001b[0m \u001b[0;32min\u001b[0m \u001b[0morder\u001b[0m\u001b[0;34m:\u001b[0m\u001b[0;34m\u001b[0m\u001b[0;34m\u001b[0m\u001b[0m\n\u001b[0;32m-> 3124\u001b[0;31m                 batch = self[index].augment_batch_(\n\u001b[0m\u001b[1;32m   3125\u001b[0m                     \u001b[0mbatch\u001b[0m\u001b[0;34m,\u001b[0m\u001b[0;34m\u001b[0m\u001b[0;34m\u001b[0m\u001b[0m\n\u001b[1;32m   3126\u001b[0m                     \u001b[0mparents\u001b[0m\u001b[0;34m=\u001b[0m\u001b[0mparents\u001b[0m \u001b[0;34m+\u001b[0m \u001b[0;34m[\u001b[0m\u001b[0mself\u001b[0m\u001b[0;34m]\u001b[0m\u001b[0;34m,\u001b[0m\u001b[0;34m\u001b[0m\u001b[0;34m\u001b[0m\u001b[0m\n",
            "\u001b[0;32m/usr/local/lib/python3.10/dist-packages/imgaug/augmenters/meta.py\u001b[0m in \u001b[0;36maugment_batch_\u001b[0;34m(self, batch, parents, hooks)\u001b[0m\n\u001b[1;32m    639\u001b[0m         \u001b[0;32mwith\u001b[0m \u001b[0m_maybe_deterministic_ctx\u001b[0m\u001b[0;34m(\u001b[0m\u001b[0mself\u001b[0m\u001b[0;34m)\u001b[0m\u001b[0;34m:\u001b[0m\u001b[0;34m\u001b[0m\u001b[0;34m\u001b[0m\u001b[0m\n\u001b[1;32m    640\u001b[0m             \u001b[0;32mif\u001b[0m \u001b[0;32mnot\u001b[0m \u001b[0mbatch_inaug\u001b[0m\u001b[0;34m.\u001b[0m\u001b[0mempty\u001b[0m\u001b[0;34m:\u001b[0m\u001b[0;34m\u001b[0m\u001b[0;34m\u001b[0m\u001b[0m\n\u001b[0;32m--> 641\u001b[0;31m                 batch_inaug = self._augment_batch_(\n\u001b[0m\u001b[1;32m    642\u001b[0m                     \u001b[0mbatch_inaug\u001b[0m\u001b[0;34m,\u001b[0m\u001b[0;34m\u001b[0m\u001b[0;34m\u001b[0m\u001b[0m\n\u001b[1;32m    643\u001b[0m                     \u001b[0mrandom_state\u001b[0m\u001b[0;34m=\u001b[0m\u001b[0mself\u001b[0m\u001b[0;34m.\u001b[0m\u001b[0mrandom_state\u001b[0m\u001b[0;34m,\u001b[0m\u001b[0;34m\u001b[0m\u001b[0;34m\u001b[0m\u001b[0m\n",
            "\u001b[0;32m/usr/local/lib/python3.10/dist-packages/imgaug/augmenters/geometric.py\u001b[0m in \u001b[0;36m_augment_batch_\u001b[0;34m(self, batch, random_state, parents, hooks)\u001b[0m\n\u001b[1;32m   3048\u001b[0m \u001b[0;34m\u001b[0m\u001b[0m\n\u001b[1;32m   3049\u001b[0m         \u001b[0;32mif\u001b[0m \u001b[0mbatch\u001b[0m\u001b[0;34m.\u001b[0m\u001b[0mimages\u001b[0m \u001b[0;32mis\u001b[0m \u001b[0;32mnot\u001b[0m \u001b[0;32mNone\u001b[0m\u001b[0;34m:\u001b[0m\u001b[0;34m\u001b[0m\u001b[0;34m\u001b[0m\u001b[0m\n\u001b[0;32m-> 3050\u001b[0;31m             batch.images = self._augment_images_by_samples(batch.images,\n\u001b[0m\u001b[1;32m   3051\u001b[0m                                                            samples)\n\u001b[1;32m   3052\u001b[0m \u001b[0;34m\u001b[0m\u001b[0m\n",
            "\u001b[0;32m/usr/local/lib/python3.10/dist-packages/imgaug/augmenters/geometric.py\u001b[0m in \u001b[0;36m_augment_images_by_samples\u001b[0;34m(self, images, samples)\u001b[0m\n\u001b[1;32m   3097\u001b[0m \u001b[0;34m\u001b[0m\u001b[0m\n\u001b[1;32m   3098\u001b[0m         \u001b[0;32mfor\u001b[0m \u001b[0mi\u001b[0m\u001b[0;34m,\u001b[0m \u001b[0mimage\u001b[0m \u001b[0;32min\u001b[0m \u001b[0menumerate\u001b[0m\u001b[0;34m(\u001b[0m\u001b[0mimages\u001b[0m\u001b[0;34m)\u001b[0m\u001b[0;34m:\u001b[0m\u001b[0;34m\u001b[0m\u001b[0;34m\u001b[0m\u001b[0m\n\u001b[0;32m-> 3099\u001b[0;31m             transformer = self._get_transformer(\n\u001b[0m\u001b[1;32m   3100\u001b[0m                 \u001b[0mimage\u001b[0m\u001b[0;34m.\u001b[0m\u001b[0mshape\u001b[0m\u001b[0;34m,\u001b[0m \u001b[0mimage\u001b[0m\u001b[0;34m.\u001b[0m\u001b[0mshape\u001b[0m\u001b[0;34m,\u001b[0m \u001b[0msamples\u001b[0m\u001b[0;34m.\u001b[0m\u001b[0mnb_rows\u001b[0m\u001b[0;34m[\u001b[0m\u001b[0mi\u001b[0m\u001b[0;34m]\u001b[0m\u001b[0;34m,\u001b[0m\u001b[0;34m\u001b[0m\u001b[0;34m\u001b[0m\u001b[0m\n\u001b[1;32m   3101\u001b[0m                 samples.nb_cols[i], samples.jitter[i])\n",
            "\u001b[0;32m/usr/local/lib/python3.10/dist-packages/imgaug/augmenters/geometric.py\u001b[0m in \u001b[0;36m_get_transformer\u001b[0;34m(self, augmentable_shape, image_shape, nb_rows, nb_cols, jitter_img)\u001b[0m\n\u001b[1;32m   3351\u001b[0m             \u001b[0;32melse\u001b[0m\u001b[0;34m:\u001b[0m\u001b[0;34m\u001b[0m\u001b[0;34m\u001b[0m\u001b[0m\n\u001b[1;32m   3352\u001b[0m                 \u001b[0mmatrix\u001b[0m \u001b[0;34m=\u001b[0m \u001b[0mtf\u001b[0m\u001b[0;34m.\u001b[0m\u001b[0mPiecewiseAffineTransform\u001b[0m\u001b[0;34m(\u001b[0m\u001b[0;34m)\u001b[0m\u001b[0;34m\u001b[0m\u001b[0;34m\u001b[0m\u001b[0m\n\u001b[0;32m-> 3353\u001b[0;31m                 \u001b[0mmatrix\u001b[0m\u001b[0;34m.\u001b[0m\u001b[0mestimate\u001b[0m\u001b[0;34m(\u001b[0m\u001b[0mpoints_src\u001b[0m\u001b[0;34m[\u001b[0m\u001b[0;34m:\u001b[0m\u001b[0;34m,\u001b[0m \u001b[0;34m:\u001b[0m\u001b[0;34m:\u001b[0m\u001b[0;34m-\u001b[0m\u001b[0;36m1\u001b[0m\u001b[0;34m]\u001b[0m\u001b[0;34m,\u001b[0m \u001b[0mpoints_dest\u001b[0m\u001b[0;34m[\u001b[0m\u001b[0;34m:\u001b[0m\u001b[0;34m,\u001b[0m \u001b[0;34m:\u001b[0m\u001b[0;34m:\u001b[0m\u001b[0;34m-\u001b[0m\u001b[0;36m1\u001b[0m\u001b[0;34m]\u001b[0m\u001b[0;34m)\u001b[0m\u001b[0;34m\u001b[0m\u001b[0;34m\u001b[0m\u001b[0m\n\u001b[0m\u001b[1;32m   3354\u001b[0m                 \u001b[0;32mreturn\u001b[0m \u001b[0mmatrix\u001b[0m\u001b[0;34m\u001b[0m\u001b[0;34m\u001b[0m\u001b[0m\n\u001b[1;32m   3355\u001b[0m \u001b[0;34m\u001b[0m\u001b[0m\n",
            "\u001b[0;32m/usr/local/lib/python3.10/dist-packages/skimage/transform/_geometric.py\u001b[0m in \u001b[0;36mestimate\u001b[0;34m(self, src, dst)\u001b[0m\n\u001b[1;32m    982\u001b[0m         \u001b[0;31m# find affine mapping from source positions to destination\u001b[0m\u001b[0;34m\u001b[0m\u001b[0;34m\u001b[0m\u001b[0m\n\u001b[1;32m    983\u001b[0m         \u001b[0mself\u001b[0m\u001b[0;34m.\u001b[0m\u001b[0maffines\u001b[0m \u001b[0;34m=\u001b[0m \u001b[0;34m[\u001b[0m\u001b[0;34m]\u001b[0m\u001b[0;34m\u001b[0m\u001b[0;34m\u001b[0m\u001b[0m\n\u001b[0;32m--> 984\u001b[0;31m         \u001b[0;32mfor\u001b[0m \u001b[0mtri\u001b[0m \u001b[0;32min\u001b[0m \u001b[0mself\u001b[0m\u001b[0;34m.\u001b[0m\u001b[0m_tesselation\u001b[0m\u001b[0;34m.\u001b[0m\u001b[0mvertices\u001b[0m\u001b[0;34m:\u001b[0m\u001b[0;34m\u001b[0m\u001b[0;34m\u001b[0m\u001b[0m\n\u001b[0m\u001b[1;32m    985\u001b[0m             \u001b[0maffine\u001b[0m \u001b[0;34m=\u001b[0m \u001b[0mAffineTransform\u001b[0m\u001b[0;34m(\u001b[0m\u001b[0mdimensionality\u001b[0m\u001b[0;34m=\u001b[0m\u001b[0mndim\u001b[0m\u001b[0;34m)\u001b[0m\u001b[0;34m\u001b[0m\u001b[0;34m\u001b[0m\u001b[0m\n\u001b[1;32m    986\u001b[0m             \u001b[0msuccess\u001b[0m \u001b[0;34m&=\u001b[0m \u001b[0maffine\u001b[0m\u001b[0;34m.\u001b[0m\u001b[0mestimate\u001b[0m\u001b[0;34m(\u001b[0m\u001b[0msrc\u001b[0m\u001b[0;34m[\u001b[0m\u001b[0mtri\u001b[0m\u001b[0;34m,\u001b[0m \u001b[0;34m:\u001b[0m\u001b[0;34m]\u001b[0m\u001b[0;34m,\u001b[0m \u001b[0mdst\u001b[0m\u001b[0;34m[\u001b[0m\u001b[0mtri\u001b[0m\u001b[0;34m,\u001b[0m \u001b[0;34m:\u001b[0m\u001b[0;34m]\u001b[0m\u001b[0;34m)\u001b[0m\u001b[0;34m\u001b[0m\u001b[0;34m\u001b[0m\u001b[0m\n",
            "\u001b[0;31mAttributeError\u001b[0m: 'Delaunay' object has no attribute 'vertices'"
          ]
        }
      ],
      "source": [
        "sequence()"
      ]
    }
  ],
  "metadata": {
    "accelerator": "GPU",
    "colab": {
      "provenance": [],
      "collapsed_sections": [
        "C14i7SOF1T27",
        "eMc3ebTvH68C"
      ]
    },
    "kernelspec": {
      "display_name": "Python 3",
      "name": "python3"
    },
    "language_info": {
      "name": "python"
    }
  },
  "nbformat": 4,
  "nbformat_minor": 0
}