{
  "nbformat": 4,
  "nbformat_minor": 0,
  "metadata": {
    "colab": {
      "provenance": []
    },
    "kernelspec": {
      "name": "python3",
      "display_name": "Python 3"
    },
    "language_info": {
      "name": "python"
    }
  },
  "cells": [
    {
      "cell_type": "markdown",
      "source": [
        "# Import dependencies"
      ],
      "metadata": {
        "id": "rT7XwDx_YI6e"
      }
    },
    {
      "cell_type": "code",
      "source": [
        "from PIL import Image\n",
        "import matplotlib.pyplot as plt\n",
        "import shutil\n",
        "import os\n",
        "import re\n",
        "import csv\n",
        "import cv2 as cv\n",
        "from google.colab.patches import cv2_imshow"
      ],
      "metadata": {
        "id": "sI6tLjg3kVaE"
      },
      "execution_count": null,
      "outputs": []
    },
    {
      "cell_type": "code",
      "source": [
        "from google.colab import drive\n",
        "drive.mount('/content/drive')"
      ],
      "metadata": {
        "colab": {
          "base_uri": "https://localhost:8080/"
        },
        "id": "E8R7fI50j4Qd",
        "outputId": "e22a4b9e-fc7e-4859-9ba8-8adf9f0fdfe9"
      },
      "execution_count": null,
      "outputs": [
        {
          "output_type": "stream",
          "name": "stdout",
          "text": [
            "Mounted at /content/drive\n"
          ]
        }
      ]
    },
    {
      "cell_type": "markdown",
      "source": [
        "# Read image"
      ],
      "metadata": {
        "id": "Ndld8K1pYMQN"
      }
    },
    {
      "cell_type": "code",
      "source": [
        "txt_files = [\"/content/drive/MyDrive/cs406/project/TRECVID/DVU2022/queries/Calloused_Hands.entity.types.txt\",\n",
        "          \"/content/drive/MyDrive/cs406/project/TRECVID/DVU2022/queries/Liberty_Kid.entity.types.txt\",\n",
        "          \"/content/drive/MyDrive/cs406/project/TRECVID/DVU2022/queries/chained_for_life.entity.types.txt\",\n",
        "          \"/content/drive/MyDrive/cs406/project/TRECVID/DVU2022/queries/like_me.entity.types.txt\",\n",
        "          \"/content/drive/MyDrive/cs406/project/TRECVID/DVU2022/queries/losing_ground.entity.types.txt\",\n",
        "          \"/content/drive/MyDrive/cs406/project/TRECVID/DVU2022/queries/little_rock.entity.types.txt\"]\n",
        "\n",
        "\n",
        "image_folder =[\"/content/drive/MyDrive/cs406/project/TRECVID/DVU2022/queries/images/Calloused_Hands\",\n",
        "               \"/content/drive/MyDrive/cs406/project/TRECVID/DVU2022/queries/images/Liberty_Kid\",\n",
        "               \"/content/drive/MyDrive/cs406/project/TRECVID/DVU2022/queries/images/chained_for_life\",\n",
        "               \"/content/drive/MyDrive/cs406/project/TRECVID/DVU2022/queries/images/like_me\",\n",
        "               \"/content/drive/MyDrive/cs406/project/TRECVID/DVU2022/queries/images/losing_ground\",\n",
        "               \"/content/drive/MyDrive/cs406/project/TRECVID/DVU2022/queries/images/little_rock\"]\n",
        "\n",
        "classes_folder = \"/content/drive/MyDrive/cs406/project/TRECVID/Dataset\"\n",
        "# # Xóa các folder trong class folder\n",
        "# for class_folder in classes_folder:\n",
        "#   class_path = os.path.join(classes_folder, class_folder)\n",
        "#   if os.path.isdir(class_path):\n",
        "#     shutil.rmtree(class_path)\n",
        "\n",
        "# Tạo dictionary từ file txt\n",
        "data = {}\n",
        "for i in txt_files:\n",
        "    file_name = i.split(\"/\")[-1]\n",
        "    movie_name = file_name.split(\".\")[0]\n",
        "    with open(i, \"r\") as f:\n",
        "        for line in f:\n",
        "            key, value = line.strip().split(' : ')\n",
        "            data[key] = value\n",
        "            if value == \"Location\":\n",
        "                class_name = f\"{movie_name}_{key}\"\n",
        "                class_name = re.sub(\"'\", \"_\", class_name.lower())\n",
        "                #Tạo thư mục mới\n",
        "                classes_path = os.path.join(classes_folder, class_name)\n",
        "                os.makedirs(classes_path, exist_ok=True)\n",
        "\n",
        "                for h in image_folder:\n",
        "                    if (os.path.basename(h) == movie_name):\n",
        "                        # Duyệt qua tất cả các file trong thư mục\n",
        "                        for k in os.listdir(h):\n",
        "                            file_path = os.path.join(h, k)\n",
        "                            # Kiểm tra nếu là file ảnh\n",
        "                            if os.path.isfile(file_path) and (file_path.endswith(ext) for ext in ['.png', '.jpg', '.jpeg']):\n",
        "                                img_name, form = os.path.splitext(os.path.split(file_path)[1])\n",
        "                                img_name = img_name.rsplit(\"_\", 1)[0]\n",
        "                                img_name = re.sub(\"'\", \"_\", img_name.lower())\n",
        "                                key = re.sub(\"'\", \"_\", key.lower())\n",
        "                                #Nếu tên ảnh trùng tên key trong file txt thì copy ảnh đó vào class mới\n",
        "                                if(img_name == key):\n",
        "                                    new_file_path = os.path.join(classes_path, k)\n",
        "                                    shutil.copy(file_path, new_file_path)\n"
      ],
      "metadata": {
        "id": "5OT45mYX6Yj0"
      },
      "execution_count": null,
      "outputs": []
    }
  ]
}